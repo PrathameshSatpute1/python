{
  "nbformat": 4,
  "nbformat_minor": 0,
  "metadata": {
    "colab": {
      "name": "AssignmentON\"class\".ipynb",
      "provenance": [],
      "collapsed_sections": []
    },
    "kernelspec": {
      "name": "python3",
      "display_name": "Python 3"
    },
    "language_info": {
      "name": "python"
    }
  },
  "cells": [
    {
      "cell_type": "code",
      "source": [
        "# assignment 3april\n",
        "class Rectangle:\n",
        "  def __init__(self):\n",
        "    self.length=int(input(\"enter length\"))\n",
        "    self.width=int(input(\"enter width\"))\n",
        "  def Perimeter(self):\n",
        "    self.Perimeter=(2*(self.length + self.width))\n",
        "    print(\"perimeter is :\",self.Perimeter)\n",
        "  def area(self):\n",
        "    self.area=self.length*self.width\n",
        "    print(\"area is : \",self.area)\n",
        "  def display(self):\n",
        "    print(\"Length : \",self.length)\n",
        "    print(\"Width : \",self.width)\n",
        "    print(\"Perimeter : \",self.Perimeter)\n",
        "    print(\"Area : \",self.area)      \n",
        "class Parallelepipede(Rectangle):\n",
        "  def __init__(self):\n",
        "    Rectangle.__init__(self)\n",
        "    self.heigth=int(input(\"enter heigth\"))\n",
        "  def volume(self):\n",
        "    self.volume=(self.heigth*self.length*self.width)\n",
        "    print(\"volume is : \",self.volume)"
      ],
      "metadata": {
        "id": "mFsK6OeDczO5"
      },
      "execution_count": null,
      "outputs": []
    },
    {
      "cell_type": "code",
      "source": [
        "r=Rectangle()"
      ],
      "metadata": {
        "colab": {
          "base_uri": "https://localhost:8080/"
        },
        "id": "l8ODqYhddAb4",
        "outputId": "a2525b95-c053-4705-f8e3-e6c150e289c8"
      },
      "execution_count": null,
      "outputs": [
        {
          "name": "stdout",
          "output_type": "stream",
          "text": [
            "enter length18\n",
            "enter width12\n"
          ]
        }
      ]
    },
    {
      "cell_type": "code",
      "source": [
        "r.Perimeter()\n",
        "r.area()"
      ],
      "metadata": {
        "colab": {
          "base_uri": "https://localhost:8080/"
        },
        "id": "OaNzyqxedF7Q",
        "outputId": "ab44b66c-fd76-4d79-ad23-555d0d757cfe"
      },
      "execution_count": null,
      "outputs": [
        {
          "output_type": "stream",
          "name": "stdout",
          "text": [
            "perimeter is : 60\n",
            "area is :  216\n"
          ]
        }
      ]
    },
    {
      "cell_type": "code",
      "source": [
        "r.display()"
      ],
      "metadata": {
        "colab": {
          "base_uri": "https://localhost:8080/"
        },
        "id": "TVujgC8odNds",
        "outputId": "abc81397-e245-4d18-ca27-0dd9479e0f6b"
      },
      "execution_count": null,
      "outputs": [
        {
          "output_type": "stream",
          "name": "stdout",
          "text": [
            "Length :  18\n",
            "Width :  12\n",
            "Perimeter :  60\n",
            "Area :  216\n"
          ]
        }
      ]
    },
    {
      "cell_type": "code",
      "source": [
        "p=Parallelepipede()\n",
        "p.volume()"
      ],
      "metadata": {
        "id": "pZKHluXjdqDY",
        "colab": {
          "base_uri": "https://localhost:8080/"
        },
        "outputId": "eb923526-388e-4071-b923-6a925435b1c6"
      },
      "execution_count": null,
      "outputs": [
        {
          "output_type": "stream",
          "name": "stdout",
          "text": [
            "enter length18\n",
            "enter width12\n",
            "enter heigth15\n",
            "volume is :  3240\n"
          ]
        }
      ]
    },
    {
      "cell_type": "code",
      "source": [
        "# 2 \n",
        "class Person:\n",
        "  def __init__(self,name,age):\n",
        "    self.name=name\n",
        "    self.age=age\n",
        "  def display(self):\n",
        "      print(\"Name : \",self.name,\"Age :\",self.age)\n",
        "class Student(Person):\n",
        "  def __init__(self,name,age,section):\n",
        "    Person.__init__(self,name,age)\n",
        "    self.section=section\n",
        "  def displayStudent(self):\n",
        "    print(\"Name of student :\",self.name,\"Age is : \",self.age,\"and section is :\",self.section)\n"
      ],
      "metadata": {
        "id": "srhwac4BgI0t"
      },
      "execution_count": null,
      "outputs": []
    },
    {
      "cell_type": "code",
      "source": [
        "p=Person(\"Ram\",\"25\")\n",
        "p.display()"
      ],
      "metadata": {
        "colab": {
          "base_uri": "https://localhost:8080/"
        },
        "id": "hvRjVPoZp28P",
        "outputId": "da7faf23-8dc2-4da8-c788-4e5627d3a519"
      },
      "execution_count": null,
      "outputs": [
        {
          "output_type": "stream",
          "name": "stdout",
          "text": [
            "Name :  Ram Age : 25\n"
          ]
        }
      ]
    },
    {
      "cell_type": "code",
      "source": [
        "s=Student(\"Ram\",\"25\",\"DBDA\")\n",
        "s.displayStudent()"
      ],
      "metadata": {
        "colab": {
          "base_uri": "https://localhost:8080/"
        },
        "id": "9B8ZRLiGqFYM",
        "outputId": "5650d726-8839-4378-ada7-99b0a0d779c5"
      },
      "execution_count": null,
      "outputs": [
        {
          "output_type": "stream",
          "name": "stdout",
          "text": [
            "Name of student : Ram Age is :  25 and section is : DBDA\n"
          ]
        }
      ]
    },
    {
      "cell_type": "code",
      "source": [
        "# 3\n",
        "class BankAccount:\n",
        "  def __init__(self):\n",
        "    self.accountNumber=int(input(\"enter number : \"))\n",
        "    self.name=input(\"Enter the name : \")\n",
        "    self.balance=int(input(\"Enter balance : \"))\n",
        "  def Deposit(self):\n",
        "    self.DepositeAmmount=int(input(\"enter ammount : \"))\n",
        "    self.balance=self.balance + self.DepositeAmmount\n",
        "    print(\"Deposited ammount : \",self.DepositeAmmount)\n",
        "  def Withdrawal(self):\n",
        "    self.Withdrawal=int(input(\"enter ammount : \"))\n",
        "    if self.balance > self.Withdrawal:\n",
        "       self.balance=self.balance - self.Withdrawal\n",
        "    else: \n",
        "      print(\"Low balance\")  \n",
        "    print(\"Withdrawal ammount : \",self.Withdrawal)  \n",
        "  def bankFees(self):\n",
        "    self.bankFees=(self.balance*0.05)\n",
        "  def  display(self):\n",
        "    print(\"Account number : \",self.accountNumber)\n",
        "    print(\"Name : \",self.name)\n",
        "    print(\"Balance : \",self.balance)"
      ],
      "metadata": {
        "id": "P_41dwajqkHf"
      },
      "execution_count": null,
      "outputs": []
    },
    {
      "cell_type": "code",
      "source": [
        "b=BankAccount()"
      ],
      "metadata": {
        "colab": {
          "base_uri": "https://localhost:8080/"
        },
        "id": "I6xzQ6Ob10qe",
        "outputId": "73e76e8c-0d98-4813-a288-0c07f56cadf0"
      },
      "execution_count": null,
      "outputs": [
        {
          "name": "stdout",
          "output_type": "stream",
          "text": [
            "enter number : 8489652168949\n",
            "Enter the name : Ram\n",
            "Enter balance : 15000\n"
          ]
        }
      ]
    },
    {
      "cell_type": "code",
      "source": [
        "b.Deposit()\n",
        "b.Withdrawal()"
      ],
      "metadata": {
        "colab": {
          "base_uri": "https://localhost:8080/"
        },
        "id": "3totET8H2IFJ",
        "outputId": "96309ff9-ff45-49a5-e9df-611c66feee34"
      },
      "execution_count": null,
      "outputs": [
        {
          "output_type": "stream",
          "name": "stdout",
          "text": [
            "enter ammount : 5000\n",
            "Deposited ammount :  5000\n",
            "enter ammount : 3000\n",
            "Withdrawal ammount :  3000\n"
          ]
        }
      ]
    },
    {
      "cell_type": "code",
      "source": [
        "b.display()"
      ],
      "metadata": {
        "colab": {
          "base_uri": "https://localhost:8080/"
        },
        "id": "xAqrqey-2jbn",
        "outputId": "1d5cb3ea-401f-4921-cf70-dbaf52dbeaea"
      },
      "execution_count": null,
      "outputs": [
        {
          "output_type": "stream",
          "name": "stdout",
          "text": [
            "Account number :  8489652168949\n",
            "Name :  Ram\n",
            "Balance :  17000\n"
          ]
        }
      ]
    },
    {
      "cell_type": "code",
      "source": [
        "#4\n",
        "class Book:\n",
        "  def __init__(self):\n",
        "    self.title=input(\"Enter title of book : \")\n",
        "    self.Auther=input(\"Enter auther name : \")\n",
        "    self.price=int(input(\"enter price : \"))\n",
        "  def view(self):\n",
        "    self.view=int(input(\"enter value to see details of book : \"))\n",
        "    print(\"Details of book are given below :\")\n",
        "  def display(self):\n",
        "    print(\"Title of book : \",self.title)\n",
        "    print(\"Auther name : \",self.Auther)\n",
        "    print(\"price : \",self.price) "
      ],
      "metadata": {
        "id": "jrZO41j75_DH"
      },
      "execution_count": null,
      "outputs": []
    },
    {
      "cell_type": "code",
      "source": [
        "b=Book()"
      ],
      "metadata": {
        "colab": {
          "base_uri": "https://localhost:8080/"
        },
        "id": "o9DXVYcSLw3k",
        "outputId": "29df9544-5300-4685-b801-3f8479d89a4f"
      },
      "execution_count": null,
      "outputs": [
        {
          "name": "stdout",
          "output_type": "stream",
          "text": [
            "Enter title of book : The journey\n",
            "Enter auther name : Prathamesh Satpute\n",
            "enter price : 999\n"
          ]
        }
      ]
    },
    {
      "cell_type": "code",
      "source": [
        "b.view()\n",
        "b.display()"
      ],
      "metadata": {
        "colab": {
          "base_uri": "https://localhost:8080/"
        },
        "id": "D-f3k3M6L0Pv",
        "outputId": "c31187e8-06c2-4182-8c90-5e66e0ca8f35"
      },
      "execution_count": null,
      "outputs": [
        {
          "output_type": "stream",
          "name": "stdout",
          "text": [
            "enter value to see details of book : 1\n",
            "Details of book are given below :\n",
            "Title of book :  The journey\n",
            "Auther name :  Prathamesh Satpute\n",
            "price :  999\n"
          ]
        }
      ]
    },
    {
      "cell_type": "code",
      "source": [
        "#5\n",
        "class TK_extended:\n",
        "  def Master(self,name=\"window\"):\n",
        "    self.name=name\n",
        "    print(\"name of window : \",name)\n",
        "  def title(self,title=\"new win\"):\n",
        "    self.title=title\n",
        "    print(\"title of window : \",title)\n",
        "  def createwindow(self):\n",
        "    self.width=int(input(\"Enter width : \"))\n",
        "    self.heigth=int(input(\"Enter height : \"))\n",
        "    print(\"Current size of window : \",self.width,\"x\",self.heigth)\n",
        "  def resizewindow(self):\n",
        "    self.width=int(input(\"Enter new width : \"))\n",
        "    self.heigth=int(input(\"Enter new height : \"))\n",
        "  def generate(self):  \n",
        "    print(\"New generated size of window : \",self.width,\"x\",self.heigth)"
      ],
      "metadata": {
        "id": "cQqnBs7uMEZf"
      },
      "execution_count": null,
      "outputs": []
    },
    {
      "cell_type": "code",
      "source": [
        "t=TK_extended()"
      ],
      "metadata": {
        "id": "HMaJZ63ESAmY"
      },
      "execution_count": null,
      "outputs": []
    },
    {
      "cell_type": "code",
      "source": [
        "t.Master()\n",
        "t.title()"
      ],
      "metadata": {
        "colab": {
          "base_uri": "https://localhost:8080/"
        },
        "id": "_bxliJncSKCY",
        "outputId": "3dd22362-173a-46f3-c3e0-e54cc8096ff2"
      },
      "execution_count": null,
      "outputs": [
        {
          "output_type": "stream",
          "name": "stdout",
          "text": [
            "name of window :  window\n",
            "title of window :  new win\n"
          ]
        }
      ]
    },
    {
      "cell_type": "code",
      "source": [
        "t.createwindow()"
      ],
      "metadata": {
        "colab": {
          "base_uri": "https://localhost:8080/"
        },
        "id": "EkHTBqojSWou",
        "outputId": "1aaf5674-6167-4c97-9326-ea846703d340"
      },
      "execution_count": null,
      "outputs": [
        {
          "output_type": "stream",
          "name": "stdout",
          "text": [
            "Enter width : 50\n",
            "Enter height : 40\n",
            "Current size of window :  50 x 40\n"
          ]
        }
      ]
    },
    {
      "cell_type": "code",
      "source": [
        "t.resizewindow()\n",
        "t.generate()"
      ],
      "metadata": {
        "colab": {
          "base_uri": "https://localhost:8080/"
        },
        "id": "2JLuHoixS-dJ",
        "outputId": "a1b3bc03-01bb-4d29-eb4e-6ad8f3cbf998"
      },
      "execution_count": null,
      "outputs": [
        {
          "output_type": "stream",
          "name": "stdout",
          "text": [
            "Enter new width : 40\n",
            "Enter new height : 30\n",
            "New generated size of window :  40 x 30\n"
          ]
        }
      ]
    },
    {
      "cell_type": "code",
      "source": [
        "#6\n",
        "class Vehicle:\n",
        "  def __init__(self,name,topspeed,mileage,color=\"white\"):\n",
        "    self.name=name\n",
        "    self.topspeed=topspeed\n",
        "    self.mileage=mileage\n",
        "    self.color=color\n",
        "  def details(self):\n",
        "    print(\"Name is :\",self.name,\"Top speed is : \",self.topspeed,\"Mileage is : \",self.mileage,\"color is : \",self.color)  \n",
        "class Bus(Vehicle):\n",
        "  def __init__(self,name,topspeed,mileage,color=\"white\"):\n",
        "    Vehicle.__init__(self,name,topspeed,mileage,color=\"white\")\n",
        "  def detailsbus(self):\n",
        "    print(\"Name is :\",self.name,\"Top speed is : \",self.topspeed,\"Mileage is : \",self.mileage,\"color is : \",self.color)"
      ],
      "metadata": {
        "id": "AS2OWjhcTITe"
      },
      "execution_count": null,
      "outputs": []
    },
    {
      "cell_type": "code",
      "source": [
        "v=Vehicle(\"Tata\",120,18)\n",
        "v.details()"
      ],
      "metadata": {
        "colab": {
          "base_uri": "https://localhost:8080/"
        },
        "id": "BbQf8JUUABli",
        "outputId": "27eddb87-30e0-4661-a224-178620f09fb3"
      },
      "execution_count": null,
      "outputs": [
        {
          "output_type": "stream",
          "name": "stdout",
          "text": [
            "Name is : Tata Top speed is :  120 Mileage is :  18 color is :  white\n"
          ]
        }
      ]
    },
    {
      "cell_type": "code",
      "source": [
        "b=Bus(\"tata\",100,10)\n",
        "b.detailsbus()"
      ],
      "metadata": {
        "colab": {
          "base_uri": "https://localhost:8080/"
        },
        "id": "pqANBlntAdGm",
        "outputId": "165d8266-e66a-4f58-8f90-71d698211ed1"
      },
      "execution_count": null,
      "outputs": [
        {
          "output_type": "stream",
          "name": "stdout",
          "text": [
            "Name is : tata Top speed is :  100 Mileage is :  10 color is :  white\n"
          ]
        }
      ]
    },
    {
      "cell_type": "code",
      "source": [
        ""
      ],
      "metadata": {
        "id": "TTY2gxvcCFsw"
      },
      "execution_count": null,
      "outputs": []
    }
  ]
}