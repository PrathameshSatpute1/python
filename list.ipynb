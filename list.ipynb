{
  "nbformat": 4,
  "nbformat_minor": 0,
  "metadata": {
    "colab": {
      "name": "list.ipynb",
      "provenance": []
    },
    "kernelspec": {
      "name": "python3",
      "display_name": "Python 3"
    },
    "language_info": {
      "name": "python"
    }
  },
  "cells": [
    {
      "cell_type": "code",
      "execution_count": null,
      "metadata": {
        "id": "UsahUN3OspAo"
      },
      "outputs": [],
      "source": [
        "a= 10\n",
        "b= 20\n"
      ]
    },
    {
      "cell_type": "code",
      "source": [
        "a,b =b,a"
      ],
      "metadata": {
        "id": "GlLXNuSjsxyY"
      },
      "execution_count": null,
      "outputs": []
    },
    {
      "cell_type": "code",
      "source": [
        "print(a)\n",
        "print(b)"
      ],
      "metadata": {
        "colab": {
          "base_uri": "https://localhost:8080/"
        },
        "id": "J1IfOehCs2RX",
        "outputId": "4efee5dc-4156-4054-d16c-11df73034cca"
      },
      "execution_count": null,
      "outputs": [
        {
          "output_type": "stream",
          "name": "stdout",
          "text": [
            "20\n",
            "10\n"
          ]
        }
      ]
    },
    {
      "cell_type": "code",
      "source": [
        ""
      ],
      "metadata": {
        "id": "ns-tI_7qtCYn"
      },
      "execution_count": null,
      "outputs": []
    },
    {
      "cell_type": "code",
      "source": [
        "s=\"parikshit\"\n",
        "a=s[0::2]\n",
        "b=s[1::2]\n",
        "print(a)\n",
        "print(b)"
      ],
      "metadata": {
        "id": "iR6GAjS2tCoG",
        "colab": {
          "base_uri": "https://localhost:8080/"
        },
        "outputId": "df5d1805-10a4-44a5-9bda-e92132f6778e"
      },
      "execution_count": null,
      "outputs": [
        {
          "output_type": "stream",
          "name": "stdout",
          "text": [
            "prkht\n",
            "aisi\n"
          ]
        }
      ]
    },
    {
      "cell_type": "code",
      "source": [
        "s=\"1234899651234489\"\n",
        "a=[]\n",
        "b=[]\n",
        "for i in range(0,len(s)):\n",
        "  if(i%2==0):\n",
        "    a.append(s[i]);\n",
        "  else:\n",
        "    b.append(s[i]);    "
      ],
      "metadata": {
        "id": "1z7axJquxJ7A"
      },
      "execution_count": null,
      "outputs": []
    },
    {
      "cell_type": "code",
      "source": [
        "print(a)\n",
        "print(b)"
      ],
      "metadata": {
        "colab": {
          "base_uri": "https://localhost:8080/"
        },
        "id": "1FH6yXxtyYgn",
        "outputId": "74ad95e9-7f45-4489-bc8f-7f2ef09c0e7c"
      },
      "execution_count": null,
      "outputs": [
        {
          "output_type": "stream",
          "name": "stdout",
          "text": [
            "['1', '3', '8', '9', '5', '2', '4', '8']\n",
            "['2', '4', '9', '6', '1', '3', '4', '9']\n"
          ]
        }
      ]
    },
    {
      "cell_type": "code",
      "source": [
        "a=[0,2,3,3,5,6,6,8,9,8]\n",
        "true=[]\n",
        "false=[]\n",
        "for i in range(len(a)):\n",
        "    if i%2==a[i]%2:\n",
        "        print(\"true at\",i)\n",
        "        true.append(i)\n",
        "    else:\n",
        "        print(\"false at\",i)\n",
        "        false.append(i)\n",
        "print(\"true values are \",true)\n",
        "print(\"false values are \",false)\n",
        "\n"
      ],
      "metadata": {
        "colab": {
          "base_uri": "https://localhost:8080/"
        },
        "id": "WWxNm9aW03aK",
        "outputId": "b9501092-a852-4585-b5a4-73b3236ddb05"
      },
      "execution_count": null,
      "outputs": [
        {
          "output_type": "stream",
          "name": "stdout",
          "text": [
            "true at 0\n",
            "false at 1\n",
            "false at 2\n",
            "true at 3\n",
            "false at 4\n",
            "false at 5\n",
            "true at 6\n",
            "false at 7\n",
            "false at 8\n",
            "false at 9\n",
            "true values are  [0, 3, 6]\n",
            "false values are  [1, 2, 4, 5, 7, 8, 9]\n"
          ]
        }
      ]
    },
    {
      "cell_type": "code",
      "source": [
        ""
      ],
      "metadata": {
        "id": "v4GFq_xv07WB"
      },
      "execution_count": null,
      "outputs": []
    }
  ]
}