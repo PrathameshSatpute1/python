{
  "nbformat": 4,
  "nbformat_minor": 0,
  "metadata": {
    "colab": {
      "name": "coding1_assignment_list.ipynb",
      "provenance": [],
      "collapsed_sections": []
    },
    "kernelspec": {
      "name": "python3",
      "display_name": "Python 3"
    },
    "language_info": {
      "name": "python"
    }
  },
  "cells": [
    {
      "cell_type": "code",
      "execution_count": null,
      "metadata": {
        "colab": {
          "base_uri": "https://localhost:8080/"
        },
        "id": "RBhdTAkpgoNI",
        "outputId": "f853480d-4e87-4269-f719-42b99ba293d3"
      },
      "outputs": [
        {
          "output_type": "stream",
          "name": "stdout",
          "text": [
            "Element at odd-index positions from list one : [6, 12, 18]\n",
            "Element at even-index positions from list two : [4, 12, 20, 28]\n",
            "final list : [6, 12, 18, 4, 12, 20, 28]\n"
          ]
        }
      ],
      "source": [
        "# 1.Given a two list. Create a third list by picking an odd-index element from the first list and even index elements from the second.\n",
        "listOne=[3,6,9,12,15,18,21]\n",
        "listTwo=[4,8,12,16,20,24,28]\n",
        "a=listOne[1::2]\n",
        "b=listTwo[0::2]\n",
        "print(\"Element at odd-index positions from list one :\",a)\n",
        "print(\"Element at even-index positions from list two :\",b)\n",
        "a.extend(b)\n",
        "print(\"final list :\",a)"
      ]
    },
    {
      "cell_type": "code",
      "source": [
        "# 2.Given a number count the total number of digits in a number.\n",
        "n=input(\"Enter the number : \")\n",
        "print(\"The total number of digits in a number : \",len(n))\n"
      ],
      "metadata": {
        "colab": {
          "base_uri": "https://localhost:8080/"
        },
        "id": "j3gYJTYgihof",
        "outputId": "27e392bf-ba99-4fc8-f60a-7fe3f2b69b1a"
      },
      "execution_count": null,
      "outputs": [
        {
          "output_type": "stream",
          "name": "stdout",
          "text": [
            "Enter the number : 123456\n",
            "The total number of digits in a number :  6\n"
          ]
        }
      ]
    },
    {
      "cell_type": "code",
      "source": [
        "# 3.Write a Python program to print the numbers of a specified list after removing even numbers from it.  \n",
        "a=[1,2,3,4,5,6,7,8,9,10,11,12,13,14,15]\n",
        "for n in a:\n",
        "  if n%2!=0:\n",
        "   print(n,end='  ')"
      ],
      "metadata": {
        "colab": {
          "base_uri": "https://localhost:8080/"
        },
        "id": "5Tb2IOKejJq0",
        "outputId": "400098bc-9321-4dd1-f5de-35fc1270b8bc"
      },
      "execution_count": null,
      "outputs": [
        {
          "output_type": "stream",
          "name": "stdout",
          "text": [
            "1  3  5  7  9  11  13  15  "
          ]
        }
      ]
    },
    {
      "cell_type": "code",
      "source": [
        ""
      ],
      "metadata": {
        "id": "LxupbkKIAzmb"
      },
      "execution_count": null,
      "outputs": []
    },
    {
      "cell_type": "code",
      "source": [
        "# 4.Write a Python program to generate and print a list of first and last 5 elements where the values are square of numbers between 1 and 30 (both included).\n",
        "a=[]\n",
        "for i in range(1,31):\n",
        "    a.append(i**2)\n",
        "print(a,end=' ')\n",
        "print(\"First 5 no. \",a[ :5])\n",
        "print(\"Last 5 no. \",a[-5: ])\n",
        "print()"
      ],
      "metadata": {
        "colab": {
          "base_uri": "https://localhost:8080/"
        },
        "id": "4GMcVjmXq00v",
        "outputId": "2023ffc1-259e-42e5-cf51-0e7fd0b2547e"
      },
      "execution_count": null,
      "outputs": [
        {
          "output_type": "stream",
          "name": "stdout",
          "text": [
            "[1, 4, 9, 16, 25, 36, 49, 64, 81, 100, 121, 144, 169, 196, 225, 256, 289, 324, 361, 400, 441, 484, 529, 576, 625, 676, 729, 784, 841, 900] First 5 no.  [1, 4, 9, 16, 25]\n",
            "Last 5 no.  [676, 729, 784, 841, 900]\n",
            "\n"
          ]
        }
      ]
    },
    {
      "cell_type": "code",
      "source": [
        "# 5.Write a Python program to generate all permutations of a list in Python.\n",
        "a=[1,2,3]\n",
        "b=[]\n",
        "for i in a:\n",
        "  for j in a:\n",
        "    for k in a:\n",
        "      if i!=j:\n",
        "        if j!=k:\n",
        "          if k!=i:\n",
        "             print([i,j,k],end='')"
      ],
      "metadata": {
        "id": "HYACnNxi5Jyg",
        "colab": {
          "base_uri": "https://localhost:8080/"
        },
        "outputId": "3d195470-2199-4445-9a1e-334109c5119c"
      },
      "execution_count": null,
      "outputs": [
        {
          "output_type": "stream",
          "name": "stdout",
          "text": [
            "[1, 2, 3][1, 3, 2][2, 1, 3][2, 3, 1][3, 1, 2][3, 2, 1]"
          ]
        }
      ]
    },
    {
      "cell_type": "code",
      "source": [
        "# 6.Write a python program to check whether two lists are circularly identical.\n"
      ],
      "metadata": {
        "id": "7DjfpkqA6HT3"
      },
      "execution_count": null,
      "outputs": []
    },
    {
      "cell_type": "code",
      "source": [
        "# 7. Write a Python program to change the position of every n-th value with the (n+1)th in a list.\n",
        "a=[0,1,2,3,4,5]\n",
        "for i in range(0,len(a),2):\n",
        "   a[i],a[i+1]=a[i+1],a[i]\n",
        "print(a)  "
      ],
      "metadata": {
        "colab": {
          "base_uri": "https://localhost:8080/"
        },
        "id": "73JIwWnE2tVP",
        "outputId": "01c10c68-8b52-4a0c-88dd-8b53b2a9d8bf"
      },
      "execution_count": null,
      "outputs": [
        {
          "output_type": "stream",
          "name": "stdout",
          "text": [
            "[1, 0, 3, 2, 5, 4]\n"
          ]
        }
      ]
    },
    {
      "cell_type": "code",
      "source": [
        "# 8. Write a Python program to iterate over two lists simultaneously.\n",
        "a=[1,2,3,4,5]\n",
        "b=[6,7,8,9,0]\n",
        "for i in range(0,len(a)):\n",
        "  for j in range(i,i+1):\n",
        "    print(a[i],b[j])"
      ],
      "metadata": {
        "colab": {
          "base_uri": "https://localhost:8080/"
        },
        "id": "CxGAiD30DndA",
        "outputId": "71574dbb-7d24-46f1-d55b-0a997215e85e"
      },
      "execution_count": null,
      "outputs": [
        {
          "output_type": "stream",
          "name": "stdout",
          "text": [
            "1 6\n",
            "2 7\n",
            "3 8\n",
            "4 9\n",
            "5 0\n"
          ]
        }
      ]
    },
    {
      "cell_type": "markdown",
      "source": [
        ""
      ],
      "metadata": {
        "id": "BglS6OquEMB0"
      }
    },
    {
      "cell_type": "code",
      "source": [
        "# 8 other type solution \n",
        "list1=[1,2,3,4,5]\n",
        "list2=['sun','mon','tue','wed','thu','fri','sat']\n",
        "for a,b in zip(list1,list2):\n",
        "        print(a,b)"
      ],
      "metadata": {
        "colab": {
          "base_uri": "https://localhost:8080/"
        },
        "id": "l1CRWJ6Q5bV5",
        "outputId": "05fec424-4eb1-4616-86c3-26dffa0946a0"
      },
      "execution_count": null,
      "outputs": [
        {
          "output_type": "stream",
          "name": "stdout",
          "text": [
            "1 sun\n",
            "2 mon\n",
            "3 tue\n",
            "4 wed\n",
            "5 thu\n"
          ]
        }
      ]
    },
    {
      "cell_type": "code",
      "source": [
        "# 9.Write a Python program to generate the combinations of n distinct objects taken from the elements of a given list. Original list: [1, 2, 3, 4, 5, 6, 7, 8, 9] Combinations of 2 distinct objects: [1, 2] [1, 3] [1, 4] [1, 5] .... [7, 8] [7, 9] [8, 9]\n",
        "a=[1, 2, 3, 4, 5, 6, 7, 8, 9]\n",
        "for i in a:\n",
        "  for j in a:\n",
        "    print([i,j],end=' ')"
      ],
      "metadata": {
        "id": "r1FXFizoHXsa",
        "colab": {
          "base_uri": "https://localhost:8080/"
        },
        "outputId": "09881c22-5403-42f5-bdda-3767be9d4589"
      },
      "execution_count": null,
      "outputs": [
        {
          "output_type": "stream",
          "name": "stdout",
          "text": [
            "[1, 1] [1, 2] [1, 3] [1, 4] [1, 5] [1, 6] [1, 7] [1, 8] [1, 9] [2, 1] [2, 2] [2, 3] [2, 4] [2, 5] [2, 6] [2, 7] [2, 8] [2, 9] [3, 1] [3, 2] [3, 3] [3, 4] [3, 5] [3, 6] [3, 7] [3, 8] [3, 9] [4, 1] [4, 2] [4, 3] [4, 4] [4, 5] [4, 6] [4, 7] [4, 8] [4, 9] [5, 1] [5, 2] [5, 3] [5, 4] [5, 5] [5, 6] [5, 7] [5, 8] [5, 9] [6, 1] [6, 2] [6, 3] [6, 4] [6, 5] [6, 6] [6, 7] [6, 8] [6, 9] [7, 1] [7, 2] [7, 3] [7, 4] [7, 5] [7, 6] [7, 7] [7, 8] [7, 9] [8, 1] [8, 2] [8, 3] [8, 4] [8, 5] [8, 6] [8, 7] [8, 8] [8, 9] [9, 1] [9, 2] [9, 3] [9, 4] [9, 5] [9, 6] [9, 7] [9, 8] [9, 9] "
          ]
        }
      ]
    },
    {
      "cell_type": "code",
      "source": [
        "# 10. Write a Python program to remove duplicates from a list of list.\n",
        "list1=[[10, 20], [40], [30, 56, 25], [10, 20], [33],[40]]\n",
        "list1.sort()\n",
        "list2=[]\n",
        "for i in list1:\n",
        "  if i not in list2:\n",
        "    list2.append(i)\n",
        "print(list2)"
      ],
      "metadata": {
        "id": "B0H9w5iVL3DD",
        "colab": {
          "base_uri": "https://localhost:8080/"
        },
        "outputId": "d9d2572a-3494-49c2-996e-e6ee08f03354"
      },
      "execution_count": null,
      "outputs": [
        {
          "output_type": "stream",
          "name": "stdout",
          "text": [
            "[[10, 20], [30, 56, 25], [33], [40]]\n"
          ]
        }
      ]
    },
    {
      "cell_type": "code",
      "source": [
        "l1 = [1,2,3,4,5,6,7,8,9,10]\n",
        "l2 = [i for i in l1 if i%2==1]\n",
        "print(l2)"
      ],
      "metadata": {
        "colab": {
          "base_uri": "https://localhost:8080/"
        },
        "id": "XYmfTijHDtZm",
        "outputId": "1f109915-caf2-447b-e161-a505b7008647"
      },
      "execution_count": null,
      "outputs": [
        {
          "output_type": "stream",
          "name": "stdout",
          "text": [
            "[1, 3, 5, 7, 9]\n"
          ]
        }
      ]
    },
    {
      "cell_type": "code",
      "source": [
        "l1 = [1,2,3,4,5,6,7,8,9,10]\n",
        "for i in l1:\n",
        "  if i%2==0:\n",
        "    print(i)"
      ],
      "metadata": {
        "colab": {
          "base_uri": "https://localhost:8080/"
        },
        "id": "QClCrQEIEGvU",
        "outputId": "178e12b8-e208-464f-b9a3-4ee4f8ac9f1c"
      },
      "execution_count": null,
      "outputs": [
        {
          "output_type": "stream",
          "name": "stdout",
          "text": [
            "2\n",
            "4\n",
            "6\n",
            "8\n",
            "10\n"
          ]
        }
      ]
    }
  ]
}