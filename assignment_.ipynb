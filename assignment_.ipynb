{
  "nbformat": 4,
  "nbformat_minor": 0,
  "metadata": {
    "colab": {
      "name": "assignment  .ipynb",
      "provenance": [],
      "collapsed_sections": []
    },
    "kernelspec": {
      "name": "python3",
      "display_name": "Python 3"
    },
    "language_info": {
      "name": "python"
    }
  },
  "cells": [
    {
      "cell_type": "markdown",
      "source": [
        "Python program to interchange first and last elements in a list\n",
        "Given a list, write a Python program to swap first and last element of the list.\n",
        "Examples: \n",
        "Input : [12, 35, 9, 56, 24]\n",
        "Output : [24, 35, 9, 56, 12]\n",
        "\n",
        "Input : [1, 2, 3]\n",
        "Output : [3, 2, 1]\n",
        "\n"
      ],
      "metadata": {
        "id": "pR_m4ke93H_k"
      }
    },
    {
      "cell_type": "code",
      "execution_count": null,
      "metadata": {
        "colab": {
          "base_uri": "https://localhost:8080/"
        },
        "id": "5UU1ROmE3AkB",
        "outputId": "d81c6584-02e4-41fe-bd36-44f6dfda01e2"
      },
      "outputs": [
        {
          "output_type": "stream",
          "name": "stdout",
          "text": [
            "[24, 35, 9, 56, 12]\n"
          ]
        }
      ],
      "source": [
        "#method 1\n",
        "l= [12, 35, 9, 56, 24]\n",
        "\n",
        "l[0],l[-1]=l[-1],l[0]\n",
        "print(l)"
      ]
    },
    {
      "cell_type": "code",
      "source": [
        "l= [0,1,2,3,4,5]\n",
        "for i in range(0,len(l),2):\n",
        "  l[i],l[i+1]=l[i+1],l[i]\n",
        "print(l)"
      ],
      "metadata": {
        "colab": {
          "base_uri": "https://localhost:8080/"
        },
        "id": "GOrUP3V7Gx6H",
        "outputId": "4268e227-1841-4ab9-eea7-0651b0861258"
      },
      "execution_count": null,
      "outputs": [
        {
          "output_type": "stream",
          "name": "stdout",
          "text": [
            "[1, 0, 3, 2, 5, 4]\n"
          ]
        }
      ]
    },
    {
      "cell_type": "markdown",
      "source": [
        "WAP to find length of list\n",
        "The list is : [1, 4, 5, 7, 8]\n",
        "Length of list is : 5\n"
      ],
      "metadata": {
        "id": "mFR_uFL53k2k"
      }
    },
    {
      "cell_type": "code",
      "source": [
        "a=[1, 4, 5, 7, 8]\n",
        "len(a)"
      ],
      "metadata": {
        "colab": {
          "base_uri": "https://localhost:8080/"
        },
        "id": "YYerQa-g3kYb",
        "outputId": "8402356f-73b9-4260-a9ff-5cda46090a43"
      },
      "execution_count": null,
      "outputs": [
        {
          "output_type": "execute_result",
          "data": {
            "text/plain": [
              "5"
            ]
          },
          "metadata": {},
          "execution_count": 3
        }
      ]
    },
    {
      "cell_type": "code",
      "source": [
        "a=[1, 4, 5, 7, 8]\n",
        "\n",
        "counter =0\n",
        "for i in a:\n",
        "  counter= counter+1\n",
        "\n",
        "print(\"length of list\" ,counter)  "
      ],
      "metadata": {
        "colab": {
          "base_uri": "https://localhost:8080/"
        },
        "id": "Zjd1Gqua48S1",
        "outputId": "64fe0740-9bf1-46bb-ef55-dc6601dd6646"
      },
      "execution_count": null,
      "outputs": [
        {
          "output_type": "stream",
          "name": "stdout",
          "text": [
            "length of list 5\n"
          ]
        }
      ]
    },
    {
      "cell_type": "markdown",
      "source": [
        "WAP to Check if element exists in list \n",
        "\n",
        "Checking if 4 exists in list : \n",
        "Element Exists\n"
      ],
      "metadata": {
        "id": "E3g5nPrx348s"
      }
    },
    {
      "cell_type": "code",
      "source": [
        "a=[1, 4, 5, 7, 8]\n",
        "\n",
        "e =4\n",
        "if e in a:\n",
        "  print(\"no. present in list\")\n",
        "else:\n",
        "  print(\"not present\")"
      ],
      "metadata": {
        "colab": {
          "base_uri": "https://localhost:8080/"
        },
        "id": "6cwU_rY934i9",
        "outputId": "6ccfbedc-3863-4920-edcd-9c5cd0d08d12"
      },
      "execution_count": null,
      "outputs": [
        {
          "output_type": "stream",
          "name": "stdout",
          "text": [
            "no. present in list\n"
          ]
        }
      ]
    },
    {
      "cell_type": "code",
      "source": [
        "for i in a:\n",
        "  if i==4:\n",
        "    print(\"no. is present\")\n",
        "  else:\n",
        "    continue\n",
        "    print(\"not present\")"
      ],
      "metadata": {
        "colab": {
          "base_uri": "https://localhost:8080/"
        },
        "id": "O3pNF5Vp667O",
        "outputId": "7557c638-3f0b-4cc9-8e45-3eab99b0690f"
      },
      "execution_count": null,
      "outputs": [
        {
          "output_type": "stream",
          "name": "stdout",
          "text": [
            "no. is present\n"
          ]
        }
      ]
    },
    {
      "cell_type": "code",
      "source": [
        "temp = a.count(e)\n",
        "\n",
        "if temp > 0:\n",
        "  print(True)\n",
        "else:\n",
        "  print(False)"
      ],
      "metadata": {
        "colab": {
          "base_uri": "https://localhost:8080/"
        },
        "id": "Je2IXbOZ7nD8",
        "outputId": "5b9401fd-1ddc-4a2c-8fc8-df7d3783b79d"
      },
      "execution_count": null,
      "outputs": [
        {
          "output_type": "stream",
          "name": "stdout",
          "text": [
            "True\n"
          ]
        }
      ]
    },
    {
      "cell_type": "code",
      "source": [
        ""
      ],
      "metadata": {
        "id": "n9xcl-um8DXv"
      },
      "execution_count": null,
      "outputs": []
    },
    {
      "cell_type": "markdown",
      "source": [
        "WAP to clear a list\n",
        "before clear: [6, 0, 4, 1]\n"
      ],
      "metadata": {
        "id": "I1g7kANU8GS2"
      }
    },
    {
      "cell_type": "code",
      "source": [
        "l=[6, 0, 4, 1]\n",
        "l.clear()\n",
        "l"
      ],
      "metadata": {
        "colab": {
          "base_uri": "https://localhost:8080/"
        },
        "id": "DktKxfpW8Hjt",
        "outputId": "ad653505-2f2d-4d0f-fc50-00041dc5ee55"
      },
      "execution_count": null,
      "outputs": [
        {
          "output_type": "execute_result",
          "data": {
            "text/plain": [
              "[]"
            ]
          },
          "metadata": {},
          "execution_count": 8
        }
      ]
    },
    {
      "cell_type": "code",
      "source": [
        "print(l)\n",
        "l = l * 0\n",
        "print(\"list after clear \",l)"
      ],
      "metadata": {
        "colab": {
          "base_uri": "https://localhost:8080/"
        },
        "id": "6XWYwhBV9yGW",
        "outputId": "8c47db04-865d-4e31-a43e-ea405c8f5b7d"
      },
      "execution_count": null,
      "outputs": [
        {
          "output_type": "stream",
          "name": "stdout",
          "text": [
            "[]\n",
            "list after clear  []\n"
          ]
        }
      ]
    },
    {
      "cell_type": "code",
      "source": [
        "l=[6, 0, 4, 1]\n",
        "print(l)\n",
        "l=[]\n",
        "print(l)"
      ],
      "metadata": {
        "colab": {
          "base_uri": "https://localhost:8080/"
        },
        "id": "vlwASxVo-ect",
        "outputId": "fecd9bd2-3aeb-4c70-a2bb-a9363e0000ba"
      },
      "execution_count": null,
      "outputs": [
        {
          "output_type": "stream",
          "name": "stdout",
          "text": [
            "[6, 0, 4, 1]\n",
            "[]\n"
          ]
        }
      ]
    },
    {
      "cell_type": "code",
      "source": [
        "l=[6, 0, 4, 1]\n",
        "\n",
        "while (len(l)>0):\n",
        "  i=0\n",
        "  l.remove(l[i])\n",
        "\n",
        "print(l)"
      ],
      "metadata": {
        "colab": {
          "base_uri": "https://localhost:8080/"
        },
        "id": "V-ozpiebCufF",
        "outputId": "8bbe7b18-a6bd-4c01-bd84-5806c614a62e"
      },
      "execution_count": null,
      "outputs": [
        {
          "output_type": "stream",
          "name": "stdout",
          "text": [
            "[]\n"
          ]
        }
      ]
    },
    {
      "cell_type": "code",
      "source": [
        ""
      ],
      "metadata": {
        "id": "uBIws3SKEfAu"
      },
      "execution_count": null,
      "outputs": []
    },
    {
      "cell_type": "markdown",
      "source": [
        "WAP to Reversing a List\n",
        "Input : list = [10, 11, 12, 13, 14, 15]\n",
        "Output : [15, 14, 13, 12, 11, 10]\n",
        " \n",
        "Input : list = [4, 5, 6, 7, 8, 9]\n",
        "Output : [9, 8, 7, 6, 5, 4]\n"
      ],
      "metadata": {
        "id": "sM9kqiwBCHR-"
      }
    },
    {
      "cell_type": "code",
      "source": [
        "#method 1\n",
        "list = [10, 11, 12, 13, 14, 15] \n",
        "list[::-1]"
      ],
      "metadata": {
        "colab": {
          "base_uri": "https://localhost:8080/"
        },
        "id": "EuCD3pvUCLdP",
        "outputId": "8db29378-37a7-4c5f-f91e-f3d0daea790b"
      },
      "execution_count": null,
      "outputs": [
        {
          "output_type": "execute_result",
          "data": {
            "text/plain": [
              "[15, 14, 13, 12, 11, 10]"
            ]
          },
          "metadata": {},
          "execution_count": 12
        }
      ]
    },
    {
      "cell_type": "code",
      "source": [
        "s='asdfghjfds'\n",
        "a=s[::-1]\n",
        "a"
      ],
      "metadata": {
        "colab": {
          "base_uri": "https://localhost:8080/",
          "height": 35
        },
        "id": "BnXBB4v8kKju",
        "outputId": "aad222b5-f9bf-474b-87a8-889629d0f043"
      },
      "execution_count": null,
      "outputs": [
        {
          "output_type": "execute_result",
          "data": {
            "text/plain": [
              "'sdfjhgfdsa'"
            ],
            "application/vnd.google.colaboratory.intrinsic+json": {
              "type": "string"
            }
          },
          "metadata": {},
          "execution_count": 13
        }
      ]
    },
    {
      "cell_type": "code",
      "source": [
        "#method 2\n",
        "\n",
        "for i in range(len(list)-1,-1,-1):\n",
        "  print(list[i])"
      ],
      "metadata": {
        "colab": {
          "base_uri": "https://localhost:8080/"
        },
        "id": "Q7IO9ENYEhlX",
        "outputId": "bd95b0cd-7500-4891-f8bb-28ddc3bdfd21"
      },
      "execution_count": null,
      "outputs": [
        {
          "output_type": "stream",
          "name": "stdout",
          "text": [
            "15\n",
            "14\n",
            "13\n",
            "12\n",
            "11\n",
            "10\n"
          ]
        }
      ]
    },
    {
      "cell_type": "code",
      "source": [
        "list = [10, 11, 12, 13, 14, 15] \n",
        "list.reverse()\n",
        "list"
      ],
      "metadata": {
        "colab": {
          "base_uri": "https://localhost:8080/"
        },
        "id": "ptgZFa8uFwzX",
        "outputId": "897cb71c-ba9c-48cb-b448-2c57b0838200"
      },
      "execution_count": null,
      "outputs": [
        {
          "output_type": "execute_result",
          "data": {
            "text/plain": [
              "[15, 14, 13, 12, 11, 10]"
            ]
          },
          "metadata": {},
          "execution_count": 15
        }
      ]
    },
    {
      "cell_type": "code",
      "source": [
        "list1 = [10, 11, 12, 13, 14, 15] \n",
        "a =list(reversed(list1))\n",
        "print(a)\n"
      ],
      "metadata": {
        "colab": {
          "base_uri": "https://localhost:8080/",
          "height": 200
        },
        "id": "PTl7joQyF3pN",
        "outputId": "5eba78e8-a7b6-4c1a-c39c-a5745e6f7c32"
      },
      "execution_count": null,
      "outputs": [
        {
          "output_type": "error",
          "ename": "TypeError",
          "evalue": "ignored",
          "traceback": [
            "\u001b[0;31m---------------------------------------------------------------------------\u001b[0m",
            "\u001b[0;31mTypeError\u001b[0m                                 Traceback (most recent call last)",
            "\u001b[0;32m<ipython-input-16-ca4565a5f8aa>\u001b[0m in \u001b[0;36m<module>\u001b[0;34m()\u001b[0m\n\u001b[1;32m      1\u001b[0m \u001b[0mlist1\u001b[0m \u001b[0;34m=\u001b[0m \u001b[0;34m[\u001b[0m\u001b[0;36m10\u001b[0m\u001b[0;34m,\u001b[0m \u001b[0;36m11\u001b[0m\u001b[0;34m,\u001b[0m \u001b[0;36m12\u001b[0m\u001b[0;34m,\u001b[0m \u001b[0;36m13\u001b[0m\u001b[0;34m,\u001b[0m \u001b[0;36m14\u001b[0m\u001b[0;34m,\u001b[0m \u001b[0;36m15\u001b[0m\u001b[0;34m]\u001b[0m\u001b[0;34m\u001b[0m\u001b[0;34m\u001b[0m\u001b[0m\n\u001b[0;32m----> 2\u001b[0;31m \u001b[0ma\u001b[0m \u001b[0;34m=\u001b[0m\u001b[0mlist\u001b[0m\u001b[0;34m(\u001b[0m\u001b[0mreversed\u001b[0m\u001b[0;34m(\u001b[0m\u001b[0mlist1\u001b[0m\u001b[0;34m)\u001b[0m\u001b[0;34m)\u001b[0m\u001b[0;34m\u001b[0m\u001b[0;34m\u001b[0m\u001b[0m\n\u001b[0m\u001b[1;32m      3\u001b[0m \u001b[0mprint\u001b[0m\u001b[0;34m(\u001b[0m\u001b[0ma\u001b[0m\u001b[0;34m)\u001b[0m\u001b[0;34m\u001b[0m\u001b[0;34m\u001b[0m\u001b[0m\n",
            "\u001b[0;31mTypeError\u001b[0m: 'list' object is not callable"
          ]
        }
      ]
    },
    {
      "cell_type": "markdown",
      "source": [
        "Given a list of numbers, write a Python program to find the sum of all the elements in the list.\n",
        "Example: \n",
        " \n",
        "Input: [12, 15, 3, 10]\n",
        "Output: 40\n",
        " \n",
        "Input: [17, 5, 3, 5]\n",
        "Output: 30\n"
      ],
      "metadata": {
        "id": "JHV7w37fHfIH"
      }
    },
    {
      "cell_type": "code",
      "source": [
        "a= [12, 15, 3, 10]\n",
        "print(sum(a))"
      ],
      "metadata": {
        "id": "Z4eaURDoHg4d"
      },
      "execution_count": null,
      "outputs": []
    },
    {
      "cell_type": "code",
      "source": [
        "sum =0\n",
        "for i in a:\n",
        "  sum= sum + i\n",
        "print(\"sum is \",sum)"
      ],
      "metadata": {
        "id": "DZpZGKjQHcHC"
      },
      "execution_count": null,
      "outputs": []
    },
    {
      "cell_type": "code",
      "source": [
        ""
      ],
      "metadata": {
        "id": "useWRL4AIMsl"
      },
      "execution_count": null,
      "outputs": []
    },
    {
      "cell_type": "markdown",
      "source": [
        "Given a list of numbers, the task is to write a Python program to find the second largest number in the given list.\n",
        "Examples: \n",
        "Input: list1 = [10, 20, 4]\n",
        "Output: 10\n",
        "Input: list2 = [70, 11, 20, 4, 100]\n",
        "Output: 70\n"
      ],
      "metadata": {
        "id": "IcZAyoZfIP9z"
      }
    },
    {
      "cell_type": "code",
      "source": [
        "list2 = [70, 11, 20,70, 4, 100]\n",
        "list2.sort()\n",
        "print(list2)\n",
        "print(list2[-2])"
      ],
      "metadata": {
        "id": "T1nxGg4GIRgI"
      },
      "execution_count": null,
      "outputs": []
    },
    {
      "cell_type": "code",
      "source": [
        "list1 = [10, 20, 4, 45, 99]\n",
        " \n",
        "mx=max(list1[0],list1[1])\n",
        "secondmax=min(list1[0],list1[1])\n",
        "n =len(list1)\n",
        "for i in range(2,n):\n",
        "    if list1[i]>mx:\n",
        "        secondmax=mx\n",
        "        mx=list1[i]\n",
        "    elif list1[i]>secondmax and \\\n",
        "        mx != list1[i]:\n",
        "        secondmax=list1[i]\n",
        " \n",
        "print(\"Second highest number is : \",\\\n",
        "      str(secondmax))\n"
      ],
      "metadata": {
        "id": "rdWZd6HnI9od"
      },
      "execution_count": null,
      "outputs": []
    },
    {
      "cell_type": "markdown",
      "source": [
        "Given a list of integers, the task is to find N largest elements assuming size of list is greater than or equal o N.\n",
        "Examples :\n",
        "Input : [4, 5, 1, 2, 9] \n",
        "        N = 2\n",
        "Output :  [9, 5]\n",
        " \n",
        "Input : [81, 52, 45, 10, 3, 2, 96] \n",
        "        N = 3\n",
        "Output : [81, 96, 52]\n"
      ],
      "metadata": {
        "id": "U2956hJELKZg"
      }
    },
    {
      "cell_type": "code",
      "source": [
        "a =[81, 52, 45, 10, 3, 2, 96]\n",
        "n=3\n",
        "a.sort()\n",
        "print(a)\n",
        "print(a[-(n):])"
      ],
      "metadata": {
        "id": "36ByoSW2LOLR"
      },
      "execution_count": null,
      "outputs": []
    },
    {
      "cell_type": "code",
      "source": [
        "a =[81, 52, 45, 10, 3, 2, 96]\n",
        "a.sort()\n",
        "print(a)\n",
        "n=3\n",
        "for i in range(-1,-n-1,-1):\n",
        "    print(a[i])"
      ],
      "metadata": {
        "id": "lCEq52ynMLze"
      },
      "execution_count": null,
      "outputs": []
    },
    {
      "cell_type": "code",
      "source": [
        ""
      ],
      "metadata": {
        "id": "dqvKWp5dQiM_"
      },
      "execution_count": null,
      "outputs": []
    },
    {
      "cell_type": "markdown",
      "source": [
        "Given a list of numbers, write a Python program to remove multiple elements from a list based on the given condition.\n",
        "Example: \n",
        "Input: [12, 15, 3, 10]\n",
        "Output: Remove = [12, 3], New_List = [15, 10]\n",
        "\n"
      ],
      "metadata": {
        "id": "lg7fXaZKXMo9"
      }
    },
    {
      "cell_type": "code",
      "source": [
        "a=[12, 15, 3, 10]\n",
        "b=[12,3,2]\n",
        "for i in b:\n",
        "  if i in a:\n",
        "     a.remove(i)\n",
        "print(a)\n"
      ],
      "metadata": {
        "id": "Skv00hoZXUkD"
      },
      "execution_count": null,
      "outputs": []
    },
    {
      "cell_type": "code",
      "source": [
        "a=[12, 15, 3, 10]\n",
        "a.remove(12)\n",
        "a.remove(3)\n",
        "print(a)"
      ],
      "metadata": {
        "id": "oVRjxAJNkwQ_"
      },
      "execution_count": null,
      "outputs": []
    },
    {
      "cell_type": "markdown",
      "source": [
        "Input: [11, 5, 17, 18, 23, 50]\n",
        "Output: Remove = [1:5], New_list = [11, 50]\n"
      ],
      "metadata": {
        "id": "KM1Gp5hcbkff"
      }
    },
    {
      "cell_type": "code",
      "source": [
        "s=[11, 5, 17, 18, 23, 50]\n",
        "b=s[1:5]\n",
        "print(b)\n",
        "for i in b:\n",
        "  if i in s:\n",
        "    s.pop(s.index(i))\n",
        "print(s)"
      ],
      "metadata": {
        "id": "iQGlzNG1X2Y8"
      },
      "execution_count": null,
      "outputs": []
    },
    {
      "cell_type": "code",
      "source": [
        "s=[11, 5, 17, 18, 23, 50]\n",
        "b=s[1:5]\n",
        "print(b)\n",
        "for i in b:\n",
        "  if i in s:\n",
        "    s.remove(i)\n",
        "print(s)"
      ],
      "metadata": {
        "id": "LxB2YQdnwKmA"
      },
      "execution_count": null,
      "outputs": []
    },
    {
      "cell_type": "markdown",
      "source": [
        "Input : lst = [15, 6, 7, 10, 12, 20, 10, 28, 10]\n",
        "              x = 10\n",
        "Output : 3 \n",
        "10 appears three times in given list.\n"
      ],
      "metadata": {
        "id": "GWk847qaYoQA"
      }
    },
    {
      "cell_type": "code",
      "source": [
        "list = [15, 6, 7, 10, 12, 20, 10, 28, 10]\n",
        "a=10\n",
        "count=0\n",
        "for i in list:\n",
        "  if a==i:\n",
        "    count =count+1\n",
        "\n",
        "print(count)\n"
      ],
      "metadata": {
        "id": "us8D3VTYYpSF"
      },
      "execution_count": null,
      "outputs": []
    },
    {
      "cell_type": "code",
      "source": [
        "list = [15, 6, 7, 10, 12, 20, 10, 28, 10]\n",
        "a=list.count(10)\n",
        "print(a)"
      ],
      "metadata": {
        "id": "qaWLYhfKbaC1"
      },
      "execution_count": null,
      "outputs": []
    },
    {
      "cell_type": "code",
      "source": [
        ""
      ],
      "metadata": {
        "id": "D1Aeihp3epuH"
      },
      "execution_count": null,
      "outputs": []
    },
    {
      "cell_type": "markdown",
      "source": [
        "Given a list of integers with duplicate elements in it. The task to generate another list, which contains only the duplicate elements. In simple words, the new list should contain the elements which appear more than one.\n",
        "Examples : \n",
        "Input : list = [10, 20, 30, 20, 20, 30, 40, 50, -20, 60, 60, -20, -20]\n"
      ],
      "metadata": {
        "id": "ybs9RRNcjfnM"
      }
    },
    {
      "cell_type": "code",
      "source": [
        "list = [10, 20, 30, 20, 20, 30, 40, 50, -20, 60, 60, -20, -20]\n",
        "#s=set(list)\n",
        "b=[]\n",
        "c=[]\n",
        "for i in list:\n",
        "    if i not in b:\n",
        "        b.append(i)\n",
        "    else:\n",
        "        c.append(i)\n",
        "print(set(c))\n",
        "print(b)"
      ],
      "metadata": {
        "id": "Vdxo4-Bzjg4X"
      },
      "execution_count": null,
      "outputs": []
    },
    {
      "cell_type": "code",
      "source": [
        "list1 = [10, 20, 30, 20, 20, 30, 40, 50, -20, 60, 60, -20, -20]\n",
        "set1=set(list1)\n",
        "list2=[]\n",
        "for i in set1:\n",
        "    c=0\n",
        "    for j in list1:\n",
        "        if i==j:\n",
        "            c+=1\n",
        "    if c>1:\n",
        "        list2.append(i)\n",
        "print(list2)"
      ],
      "metadata": {
        "id": "rXsFfE4Uj-Ns"
      },
      "execution_count": null,
      "outputs": []
    },
    {
      "cell_type": "markdown",
      "source": [
        "Python program to find Cumulative sum of a list\n",
        "The problem statement asks to produce a new list whose i^{th} element will be equal to the sum of the (i + 1) elements.\n",
        "Examples : \n",
        " \n",
        "Input : list = [10, 20, 30, 40, 50]\n",
        "Output : [10, 30, 60, 100, 150]\n"
      ],
      "metadata": {
        "id": "apPZB9mdkvug"
      }
    },
    {
      "cell_type": "code",
      "source": [
        "list = [10, 20, 30, 40, 50]\n",
        "l=[]\n",
        "a=0\n",
        "for i in range(len(list)):\n",
        "  a=a+list[i]\n",
        "  l.append(a)\n",
        "print(l)"
      ],
      "metadata": {
        "id": "81UeEzllkwrl"
      },
      "execution_count": null,
      "outputs": []
    },
    {
      "cell_type": "code",
      "source": [
        "a = [10, 20, 30, 40, 50]\n",
        "l=[]\n",
        "s=0\n",
        "for i in  a:\n",
        "  s=s+i\n",
        "  l.append(s)\n",
        "print(l)"
      ],
      "metadata": {
        "id": "IJtJwjTKzEvw"
      },
      "execution_count": null,
      "outputs": []
    },
    {
      "cell_type": "code",
      "source": [
        "list1 = [10, 20, 30, 40, 50]\n",
        "list2=[]\n",
        "for i in range(0,len(list1)):\n",
        "    if i!=0:\n",
        "        a=list2[i-1]+list1[i]\n",
        "        list2.append(a)\n",
        "    else:\n",
        "        list2.append(list1[i])\n",
        "\n",
        "print(list2)\n"
      ],
      "metadata": {
        "id": "S50t9oavmKlM"
      },
      "execution_count": null,
      "outputs": []
    },
    {
      "cell_type": "markdown",
      "source": [
        "Break a list into chunks of size N in Python\n",
        "Input: [1, 2, 3, 4, 5,6, 7, 8, 9]\n",
        "Output: [[1, 2, 3, 4], [5, 6, 7, 8], [9]]\n"
      ],
      "metadata": {
        "id": "GZLr6n_1ndpp"
      }
    },
    {
      "cell_type": "code",
      "source": [
        "l1=[1, 2, 3, 4, 5,6, 7, 8, 9]\n",
        "n=4\n",
        "l2=[]\n",
        "for i in range(0,len(l1),n):\n",
        "    l4=l1[i:i+n]\n",
        "    l2.append(l4)\n",
        "    \n",
        "print(l2)\n",
        "\n"
      ],
      "metadata": {
        "id": "RB4GB7eQneoR"
      },
      "execution_count": null,
      "outputs": []
    },
    {
      "cell_type": "markdown",
      "source": [
        "Remove common elements from two list in Python\n"
      ],
      "metadata": {
        "id": "nOwgnKUQprbH"
      }
    },
    {
      "cell_type": "code",
      "source": [
        "a=[1, 2, 3, 4, 5,6, 7, 8, 9]\n",
        "c=sorted(a)\n",
        "b=[3,5,7,9,8,4,11,12,1]\n",
        "\n",
        "for i in c:\n",
        "  if i in b:\n",
        "    a.remove(i)\n",
        "    b.remove(i)\n",
        "print(a)\n",
        "print(b)"
      ],
      "metadata": {
        "id": "Ez_kGqp8psiQ"
      },
      "execution_count": null,
      "outputs": []
    },
    {
      "cell_type": "code",
      "source": [
        "list = [10, 20, 30, 40,50] \n",
        "l=sorted(list)\n",
        "list2 = [4, 10, 15, 18, 20]\n",
        "for i in l:\n",
        "  if i in list2:\n",
        "    list.remove(i)\n",
        "    list2.remove(i)\n",
        "print(list)\n",
        "print(list2)"
      ],
      "metadata": {
        "id": "jwG5SnOyvBDR"
      },
      "execution_count": null,
      "outputs": []
    },
    {
      "cell_type": "code",
      "source": [
        "list = [10, 20, 30, 40,50] \n",
        "a= tuple(list)\n",
        "a"
      ],
      "metadata": {
        "id": "X6pyYALYlnto"
      },
      "execution_count": null,
      "outputs": []
    },
    {
      "cell_type": "code",
      "source": [
        "a=(10, 20, 30, 40, 50)\n",
        "\n",
        "b=list(a)\n",
        "b"
      ],
      "metadata": {
        "id": "am_miyOrlwF6"
      },
      "execution_count": null,
      "outputs": []
    },
    {
      "cell_type": "code",
      "source": [
        "a= [10, 20, 30, 20, 20, 30, 40, 50, -20, 60, 60, -20, -20]\n",
        "b=[]\n",
        "c=[]\n",
        "for i in a:\n",
        "  if i not in b:\n",
        "    b.append(i)\n",
        "\n",
        "  else:\n",
        "    c.append(i)\n",
        "  \n",
        "print(b)"
      ],
      "metadata": {
        "id": "7FYmec3unDWf"
      },
      "execution_count": null,
      "outputs": []
    },
    {
      "cell_type": "code",
      "source": [
        "a=[]\n",
        "for i in range(20):\n",
        "    if i%2==0 or i%5==0:\n",
        "        a.append(i)\n",
        "print(int(sum(a)/25))\n"
      ],
      "metadata": {
        "id": "JgZ2f5-DdT82",
        "outputId": "e32967a9-895c-4a18-f136-d2e4e99056ad",
        "colab": {
          "base_uri": "https://localhost:8080/"
        }
      },
      "execution_count": null,
      "outputs": [
        {
          "output_type": "stream",
          "name": "stdout",
          "text": [
            "4\n"
          ]
        }
      ]
    },
    {
      "cell_type": "code",
      "source": [
        "x,y=0,1\n",
        "while y<30:\n",
        "    x,y=y,x+y\n",
        "print(y)\n"
      ],
      "metadata": {
        "id": "NH6-yzecdWs0",
        "outputId": "a7ba7a5a-39c1-44e7-c720-b194ed338501",
        "colab": {
          "base_uri": "https://localhost:8080/"
        }
      },
      "execution_count": null,
      "outputs": [
        {
          "output_type": "stream",
          "name": "stdout",
          "text": [
            "34\n"
          ]
        }
      ]
    }
  ]
}