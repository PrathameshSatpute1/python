{
  "nbformat": 4,
  "nbformat_minor": 0,
  "metadata": {
    "colab": {
      "name": "3assign.ipynb",
      "provenance": []
    },
    "kernelspec": {
      "name": "python3",
      "display_name": "Python 3"
    },
    "language_info": {
      "name": "python"
    }
  },
  "cells": [
    {
      "cell_type": "code",
      "execution_count": null,
      "metadata": {
        "colab": {
          "base_uri": "https://localhost:8080/"
        },
        "id": "kj9sXAFGI3uU",
        "outputId": "4252a262-dcd5-40a5-dd0a-1184cdfdf60b"
      },
      "outputs": [
        {
          "output_type": "stream",
          "name": "stdout",
          "text": [
            "15 is bigger\n"
          ]
        }
      ],
      "source": [
        "a= 20\n",
        "b=15\n",
        "if (a<b):\n",
        "  print( a, \" is small\")\n",
        "elif(a==b):\n",
        "  print(\"both equal\")\n",
        "else:\n",
        "  print(b, \"is bigger\")\n"
      ]
    },
    {
      "cell_type": "code",
      "source": [
        "n = int(input(\"enter number  \"))\n",
        "for i in range(0,n+1,2):\n",
        "  print(i)"
      ],
      "metadata": {
        "colab": {
          "base_uri": "https://localhost:8080/"
        },
        "id": "4ed4KNusJYoe",
        "outputId": "7286eacf-f954-419b-b41b-2bd2b3a582e4"
      },
      "execution_count": null,
      "outputs": [
        {
          "output_type": "stream",
          "name": "stdout",
          "text": [
            "enter number  10\n",
            "0\n",
            "2\n",
            "4\n",
            "6\n",
            "8\n",
            "10\n"
          ]
        }
      ]
    },
    {
      "cell_type": "code",
      "source": [
        "i=0\n",
        "while i<10:\n",
        "  print(i)\n",
        "  i=i+1"
      ],
      "metadata": {
        "colab": {
          "base_uri": "https://localhost:8080/"
        },
        "id": "NBxtQeo7KBzF",
        "outputId": "21ccb638-ed76-4b78-fe84-0314e2ea520f"
      },
      "execution_count": null,
      "outputs": [
        {
          "output_type": "stream",
          "name": "stdout",
          "text": [
            "0\n",
            "1\n",
            "2\n",
            "3\n",
            "4\n",
            "5\n",
            "6\n",
            "7\n",
            "8\n",
            "9\n"
          ]
        }
      ]
    },
    {
      "cell_type": "code",
      "source": [
        "sum =0\n",
        "while True:\n",
        "  i = (input(\" enter num : \"))\n",
        "  if i==\"\" :\n",
        "    break\n",
        "    sum=sum+int(i)\n",
        "print(\"sum is \",sum)"
      ],
      "metadata": {
        "colab": {
          "base_uri": "https://localhost:8080/"
        },
        "id": "FRZipLvwKN5v",
        "outputId": "7a58451f-9196-43bd-f39d-b7fc98b54801"
      },
      "execution_count": null,
      "outputs": [
        {
          "output_type": "stream",
          "name": "stdout",
          "text": [
            " enter num : 10\n",
            " enter num : 0\n",
            " enter num : 30\n",
            " enter num : 20\n",
            " enter num : \n",
            "sum is  0\n"
          ]
        }
      ]
    },
    {
      "cell_type": "code",
      "source": [
        "for i in range(1,6):\n",
        "  for j in range(1,i+1):\n",
        "    print(i,end='')\n",
        "  print()"
      ],
      "metadata": {
        "colab": {
          "base_uri": "https://localhost:8080/"
        },
        "id": "tKhChZ8zL5tg",
        "outputId": "55b808c4-5af2-4fe4-ee5b-b054e3e224b5"
      },
      "execution_count": null,
      "outputs": [
        {
          "output_type": "stream",
          "name": "stdout",
          "text": [
            "1\n",
            "22\n",
            "333\n",
            "4444\n",
            "55555\n"
          ]
        }
      ]
    },
    {
      "cell_type": "code",
      "source": [
        "for i in range(5,0,-1):\n",
        "  for j in range(1,i+1):\n",
        "    print(i,end='')\n",
        "  print()"
      ],
      "metadata": {
        "colab": {
          "base_uri": "https://localhost:8080/"
        },
        "id": "KrzncmZNZyMM",
        "outputId": "a2629e58-d0c8-4a51-fac1-0004d0a175ec"
      },
      "execution_count": null,
      "outputs": [
        {
          "output_type": "stream",
          "name": "stdout",
          "text": [
            "55555\n",
            "4444\n",
            "333\n",
            "22\n",
            "1\n"
          ]
        }
      ]
    },
    {
      "cell_type": "code",
      "source": [
        "for i in range(1,6):\n",
        "  for j in range(1,i+1):\n",
        "    print(j%2,end=' ')\n",
        "  print()"
      ],
      "metadata": {
        "colab": {
          "base_uri": "https://localhost:8080/"
        },
        "id": "RXxSy0dEaDxc",
        "outputId": "22b06177-34d6-4032-9507-c0f509b81eeb"
      },
      "execution_count": null,
      "outputs": [
        {
          "output_type": "stream",
          "name": "stdout",
          "text": [
            "1 \n",
            "1 0 \n",
            "1 0 1 \n",
            "1 0 1 0 \n",
            "1 0 1 0 1 \n"
          ]
        }
      ]
    },
    {
      "cell_type": "code",
      "source": [
        "for i in range(5,0,-1):\n",
        "  for j in range(5,i-1,-1):\n",
        "    print(j,end='')\n",
        "  print()"
      ],
      "metadata": {
        "colab": {
          "base_uri": "https://localhost:8080/"
        },
        "id": "oskUgGJSaUDl",
        "outputId": "90478ec7-f47a-4193-b411-fc17483bff7c"
      },
      "execution_count": null,
      "outputs": [
        {
          "output_type": "stream",
          "name": "stdout",
          "text": [
            "5\n",
            "54\n",
            "543\n",
            "5432\n",
            "54321\n"
          ]
        }
      ]
    },
    {
      "cell_type": "code",
      "source": [
        "a=[]\n",
        "while True:\n",
        "  s=input(\"enter no.  \")\n",
        "  if (s==\"\"):\n",
        "    break\n",
        "  a.append(int(s))\n",
        "print(a)"
      ],
      "metadata": {
        "colab": {
          "base_uri": "https://localhost:8080/"
        },
        "id": "7_0mc5OVas2D",
        "outputId": "277b30dd-0b92-4c42-dd02-83cb940b0cf0"
      },
      "execution_count": null,
      "outputs": [
        {
          "output_type": "stream",
          "name": "stdout",
          "text": [
            "enter no.  1\n",
            "enter no.  2\n",
            "enter no.  3\n",
            "enter no.  4\n",
            "enter no.  \n",
            "[1, 2, 3, 4]\n"
          ]
        }
      ]
    },
    {
      "cell_type": "code",
      "source": [
        "def add (a,b):\n",
        "  c=a+b\n",
        "  print(c)\n",
        "\n"
      ],
      "metadata": {
        "id": "MshT4kea3ffX"
      },
      "execution_count": null,
      "outputs": []
    },
    {
      "cell_type": "code",
      "source": [
        "add(5,6)"
      ],
      "metadata": {
        "colab": {
          "base_uri": "https://localhost:8080/"
        },
        "id": "fOoLHxQn36Jd",
        "outputId": "d4c75f0d-e14e-49b0-d536-10ac65ae49f1"
      },
      "execution_count": null,
      "outputs": [
        {
          "output_type": "stream",
          "name": "stdout",
          "text": [
            "11\n"
          ]
        }
      ]
    },
    {
      "cell_type": "code",
      "source": [
        "def minimum(no1,no2):\n",
        "    if no1<no2:\n",
        "        return no1\n",
        "    else:\n",
        "        return no2"
      ],
      "metadata": {
        "id": "l-d7aBqy3-mW"
      },
      "execution_count": null,
      "outputs": []
    },
    {
      "cell_type": "code",
      "source": [
        "minimum(4,9)"
      ],
      "metadata": {
        "colab": {
          "base_uri": "https://localhost:8080/"
        },
        "id": "yUy0_Nrm4Frc",
        "outputId": "9f7784b4-11ad-45c0-b4ad-80f86d63ca83"
      },
      "execution_count": null,
      "outputs": [
        {
          "output_type": "execute_result",
          "data": {
            "text/plain": [
              "4"
            ]
          },
          "metadata": {},
          "execution_count": 33
        }
      ]
    },
    {
      "cell_type": "code",
      "source": [
        "def power(x,n):\n",
        "    print(x**n)"
      ],
      "metadata": {
        "id": "xQMpdrzT4n-_"
      },
      "execution_count": null,
      "outputs": []
    },
    {
      "cell_type": "code",
      "source": [
        "power(2,4)"
      ],
      "metadata": {
        "colab": {
          "base_uri": "https://localhost:8080/"
        },
        "id": "49o-iqB-4rTl",
        "outputId": "250a5e31-ed2f-4cc8-ef01-3b8c822be523"
      },
      "execution_count": null,
      "outputs": [
        {
          "output_type": "stream",
          "name": "stdout",
          "text": [
            "16\n"
          ]
        }
      ]
    }
  ]
}