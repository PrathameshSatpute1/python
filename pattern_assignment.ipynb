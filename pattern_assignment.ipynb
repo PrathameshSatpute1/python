{
  "nbformat": 4,
  "nbformat_minor": 0,
  "metadata": {
    "colab": {
      "name": "pattern_assignment.ipynb",
      "provenance": [],
      "collapsed_sections": []
    },
    "kernelspec": {
      "name": "python3",
      "display_name": "Python 3"
    },
    "language_info": {
      "name": "python"
    }
  },
  "cells": [
    {
      "cell_type": "code",
      "source": [
        "for i in range(1,6,1):    #2\n",
        "  for j in range(1,i+1,1):\n",
        "    print(i,end='')\n",
        "  print()  "
      ],
      "metadata": {
        "colab": {
          "base_uri": "https://localhost:8080/"
        },
        "id": "irjj_xUjsphQ",
        "outputId": "8bf8e375-6113-43a8-98a1-28fc1889a153"
      },
      "execution_count": null,
      "outputs": [
        {
          "output_type": "stream",
          "name": "stdout",
          "text": [
            "1\n",
            "22\n",
            "333\n",
            "4444\n",
            "55555\n"
          ]
        }
      ]
    },
    {
      "cell_type": "code",
      "execution_count": null,
      "metadata": {
        "colab": {
          "base_uri": "https://localhost:8080/"
        },
        "id": "QVsAgePyo8CH",
        "outputId": "3ce5abe1-216f-47c6-d16e-269a7f8e5a42"
      },
      "outputs": [
        {
          "output_type": "stream",
          "name": "stdout",
          "text": [
            "1\n",
            "12\n",
            "123\n",
            "1234\n",
            "12345\n"
          ]
        }
      ],
      "source": [
        "for i in range(1,6,1):         #1\n",
        "  for j in range(1,i+1,1):\n",
        "    print(j,end='')\n",
        "  print()  "
      ]
    },
    {
      "cell_type": "code",
      "source": [
        "s={1,2,3}\n",
        "a={4,5,6}\n",
        "s | a"
      ],
      "metadata": {
        "colab": {
          "base_uri": "https://localhost:8080/"
        },
        "id": "JaiIWv7gb5Wg",
        "outputId": "297c253b-3f30-4015-8cd3-cf99605a298d"
      },
      "execution_count": null,
      "outputs": [
        {
          "output_type": "execute_result",
          "data": {
            "text/plain": [
              "{1, 2, 3, 4, 5, 6}"
            ]
          },
          "metadata": {},
          "execution_count": 26
        }
      ]
    },
    {
      "cell_type": "code",
      "source": [
        ""
      ],
      "metadata": {
        "id": "1Fa-CBlg3f1P"
      },
      "execution_count": null,
      "outputs": []
    },
    {
      "cell_type": "code",
      "source": [
        "for i in range(1,6,1):     #3\n",
        "  for j in range(1,i+1,1):\n",
        "    print(j,end='')\n",
        "  print() \n",
        "for i in range(4,0,-1):\n",
        "  for j in range(1,i+1):\n",
        "    print(j,end='')\n",
        "  print()  "
      ],
      "metadata": {
        "colab": {
          "base_uri": "https://localhost:8080/"
        },
        "id": "8Z3rNj6rs16x",
        "outputId": "551109f0-6eed-4a75-f9d3-4dc3d4d84ded"
      },
      "execution_count": null,
      "outputs": [
        {
          "output_type": "stream",
          "name": "stdout",
          "text": [
            "1\n",
            "12\n",
            "123\n",
            "1234\n",
            "12345\n",
            "1234\n",
            "123\n",
            "12\n",
            "1\n"
          ]
        }
      ]
    },
    {
      "cell_type": "code",
      "source": [
        "s^a"
      ],
      "metadata": {
        "colab": {
          "base_uri": "https://localhost:8080/"
        },
        "id": "5_rLraDWcH1J",
        "outputId": "3b48a3d1-c637-49d6-96ce-f98d29cad497"
      },
      "execution_count": null,
      "outputs": [
        {
          "output_type": "execute_result",
          "data": {
            "text/plain": [
              "{1, 2, 3, 4, 5, 6}"
            ]
          },
          "metadata": {},
          "execution_count": 27
        }
      ]
    },
    {
      "cell_type": "code",
      "source": [
        "for i in range(5,0,-1):    #4\n",
        "  for j in range(1,i+1):\n",
        "    print(j,end='')\n",
        "  print()\n",
        "for i in range(1,6):\n",
        "  for j in range(1,i+1):\n",
        "    print(j,end='')\n",
        "  print()"
      ],
      "metadata": {
        "colab": {
          "base_uri": "https://localhost:8080/"
        },
        "id": "o_Ll0ue7x0za",
        "outputId": "ed83f9a3-6a06-43a2-86d1-1c4d89ed746e"
      },
      "execution_count": null,
      "outputs": [
        {
          "output_type": "stream",
          "name": "stdout",
          "text": [
            "12345\n",
            "1234\n",
            "123\n",
            "12\n",
            "1\n",
            "1\n",
            "12\n",
            "123\n",
            "1234\n",
            "12345\n"
          ]
        }
      ]
    },
    {
      "cell_type": "code",
      "source": [
        "#5\n",
        "for i in range(5,0,-1):\n",
        "  for j in range(i,0,-1):\n",
        "    print(j,end='')\n",
        "  print() \n",
        "for i in range(1,6):\n",
        "  for j in range(i,0,-1):\n",
        "    print(j,end='')\n",
        "  print() "
      ],
      "metadata": {
        "id": "zCbBmDYXzCOR",
        "colab": {
          "base_uri": "https://localhost:8080/"
        },
        "outputId": "54fa73b3-ff32-4261-a358-0e48fe4f2d8a"
      },
      "execution_count": null,
      "outputs": [
        {
          "output_type": "stream",
          "name": "stdout",
          "text": [
            "54321\n",
            "4321\n",
            "321\n",
            "21\n",
            "1\n",
            "1\n",
            "21\n",
            "321\n",
            "4321\n",
            "54321\n"
          ]
        }
      ]
    },
    {
      "cell_type": "code",
      "source": [
        "\n",
        "for i in range(1,6):                      #6\n",
        "     print(' '*(5-i),end='')\n",
        "     for j in range(1,i+1):\n",
        "         print(j,end=' ')\n",
        "     print()  "
      ],
      "metadata": {
        "colab": {
          "base_uri": "https://localhost:8080/"
        },
        "id": "my3G8PX0Uz9u",
        "outputId": "866686f1-d176-4c36-cf76-87cb8ee47e7b"
      },
      "execution_count": null,
      "outputs": [
        {
          "output_type": "stream",
          "name": "stdout",
          "text": [
            "    1 \n",
            "   1 2 \n",
            "  1 2 3 \n",
            " 1 2 3 4 \n",
            "1 2 3 4 5 \n"
          ]
        }
      ]
    },
    {
      "cell_type": "code",
      "source": [
        "for i in range(1,6):       #7\n",
        "  for j in range(5,i-1,-1):\n",
        "    print(j,end='')\n",
        "  print() "
      ],
      "metadata": {
        "colab": {
          "base_uri": "https://localhost:8080/"
        },
        "id": "ulcYrxCzSYx3",
        "outputId": "c54605dc-fce9-4e75-a4b3-5388da0b6da0"
      },
      "execution_count": null,
      "outputs": [
        {
          "output_type": "stream",
          "name": "stdout",
          "text": [
            "54321\n",
            "5432\n",
            "543\n",
            "54\n",
            "5\n"
          ]
        }
      ]
    },
    {
      "cell_type": "code",
      "source": [
        "for i in range(5,0,-1):       #8\n",
        "  for j in range(5,i-1,-1):\n",
        "    print(j,end='')\n",
        "  print()  "
      ],
      "metadata": {
        "colab": {
          "base_uri": "https://localhost:8080/"
        },
        "id": "pCEsJYv-zjHw",
        "outputId": "17093f03-d019-4e94-9ce5-8bdfec890596"
      },
      "execution_count": null,
      "outputs": [
        {
          "output_type": "stream",
          "name": "stdout",
          "text": [
            "5\n",
            "54\n",
            "543\n",
            "5432\n",
            "54321\n"
          ]
        }
      ]
    },
    {
      "cell_type": "code",
      "source": [
        "for i in range(5,0,-1):\n",
        "  for j in range(5,i-1,-1):\n",
        "    print(j,end='')\n",
        "  print() "
      ],
      "metadata": {
        "colab": {
          "base_uri": "https://localhost:8080/"
        },
        "id": "WB6vt24EEQ4r",
        "outputId": "4a94a695-3dd5-4330-88c4-a1c700427721"
      },
      "execution_count": null,
      "outputs": [
        {
          "output_type": "stream",
          "name": "stdout",
          "text": [
            "5\n",
            "54\n",
            "543\n",
            "5432\n",
            "54321\n"
          ]
        }
      ]
    },
    {
      "cell_type": "code",
      "source": [
        "for i in range(5,0,-1):          #9\n",
        "   for j in range(1,i+1):\n",
        "     print(j,end='')\n",
        "   print()  "
      ],
      "metadata": {
        "colab": {
          "base_uri": "https://localhost:8080/"
        },
        "id": "N6hGYaarShKt",
        "outputId": "f2e2981f-e3a0-4817-df51-6a6fdcc6bfdf"
      },
      "execution_count": null,
      "outputs": [
        {
          "output_type": "stream",
          "name": "stdout",
          "text": [
            "12345\n",
            "1234\n",
            "123\n",
            "12\n",
            "1\n"
          ]
        }
      ]
    },
    {
      "cell_type": "code",
      "source": [
        "#10\n",
        "r=int(input(\"Enter the number of rows :\"))\n",
        "k=1\n",
        "for i in range(1,r+1):\n",
        "  for j in range(1,i+1):         \n",
        "    print(k,end=' ')\n",
        "    k+=1\n",
        "  print()  "
      ],
      "metadata": {
        "id": "CdMP3eZf0p5y",
        "colab": {
          "base_uri": "https://localhost:8080/"
        },
        "outputId": "33fcfe67-e5cb-4748-a0ef-6c9646ebd12f"
      },
      "execution_count": null,
      "outputs": [
        {
          "output_type": "stream",
          "name": "stdout",
          "text": [
            "Enter the number of rows :5\n",
            "1 \n",
            "2 3 \n",
            "4 5 6 \n",
            "7 8 9 10 \n",
            "11 12 13 14 15 \n"
          ]
        }
      ]
    },
    {
      "cell_type": "code",
      "source": [
        "#11\n",
        "for i in range(1,6):\n",
        "  for j in range(i,0,-1):\n",
        "    print(j,end='')\n",
        "  print()  "
      ],
      "metadata": {
        "colab": {
          "base_uri": "https://localhost:8080/"
        },
        "id": "lQXtQeWJhHNS",
        "outputId": "07a02e3e-0e60-4a72-b000-10c03345f60a"
      },
      "execution_count": null,
      "outputs": [
        {
          "output_type": "stream",
          "name": "stdout",
          "text": [
            "1\n",
            "21\n",
            "321\n",
            "4321\n",
            "54321\n"
          ]
        }
      ]
    },
    {
      "cell_type": "code",
      "source": [
        "#12\n",
        "n=int(input(\"enter no.of row :\"))\n",
        "for i in range(1,n+1):\n",
        "  for j in range(1,i+1):\n",
        "    print(i,end=' ')\n",
        "    i+=5\n",
        "  print()"
      ],
      "metadata": {
        "colab": {
          "base_uri": "https://localhost:8080/"
        },
        "id": "mOdkCtcFkFQw",
        "outputId": "edb47de3-5a6e-46b5-8222-016004358380"
      },
      "execution_count": null,
      "outputs": [
        {
          "output_type": "stream",
          "name": "stdout",
          "text": [
            "enter no.of row :5\n",
            "1 \n",
            "2 7 \n",
            "3 8 13 \n",
            "4 9 14 19 \n",
            "5 10 15 20 25 \n"
          ]
        }
      ]
    },
    {
      "cell_type": "code",
      "source": [
        "#13"
      ],
      "metadata": {
        "id": "ez4evEiinz9S"
      },
      "execution_count": null,
      "outputs": []
    },
    {
      "cell_type": "code",
      "source": [
        "#14\n",
        "for i in range(1,6):\n",
        "  for j in range(1,i+1):\n",
        "    print(j,end=' ')\n",
        "  for j in range(i-1,0,-1):\n",
        "    print(j,end=' ')  \n",
        "  print()  "
      ],
      "metadata": {
        "colab": {
          "base_uri": "https://localhost:8080/"
        },
        "id": "wqNax1Gsn2aD",
        "outputId": "9ac7659b-c808-4234-d859-918f230a2a24"
      },
      "execution_count": null,
      "outputs": [
        {
          "output_type": "stream",
          "name": "stdout",
          "text": [
            "1 \n",
            "1 2 1 \n",
            "1 2 3 2 1 \n",
            "1 2 3 4 3 2 1 \n",
            "1 2 3 4 5 4 3 2 1 \n"
          ]
        }
      ]
    },
    {
      "cell_type": "code",
      "source": [
        "#15\n",
        "for i in range(5,0,-1):\n",
        "  print(' '*(5-i),end='')\n",
        "  for j in range(1,i+1):\n",
        "    print(j,end=' ')\n",
        "  print()  "
      ],
      "metadata": {
        "colab": {
          "base_uri": "https://localhost:8080/"
        },
        "id": "W8tKB1RtqoEX",
        "outputId": "00f80231-cebe-4238-df5e-2e6ae6cba06a"
      },
      "execution_count": null,
      "outputs": [
        {
          "output_type": "stream",
          "name": "stdout",
          "text": [
            "1 2 3 4 5 \n",
            " 1 2 3 4 \n",
            "  1 2 3 \n",
            "   1 2 \n",
            "    1 \n"
          ]
        }
      ]
    },
    {
      "cell_type": "code",
      "source": [
        "#16\n",
        "for i in range(1,6):\n",
        "  print(' '*(5-i),end='')\n",
        "  for j in range(1,i+1):\n",
        "    print(j,end=' ')\n",
        "  print() \n",
        "for i in range(4,0,-1):\n",
        "  print(' '*(5-i),end='')\n",
        "  for j in range(1,i+1):\n",
        "    print(j,end=' ')\n",
        "  print() "
      ],
      "metadata": {
        "colab": {
          "base_uri": "https://localhost:8080/"
        },
        "id": "yfXIDbO9uBrx",
        "outputId": "7ddcb5d3-3869-494b-c8dc-34ea99ff4591"
      },
      "execution_count": null,
      "outputs": [
        {
          "output_type": "stream",
          "name": "stdout",
          "text": [
            "    1 \n",
            "   1 2 \n",
            "  1 2 3 \n",
            " 1 2 3 4 \n",
            "1 2 3 4 5 \n",
            " 1 2 3 4 \n",
            "  1 2 3 \n",
            "   1 2 \n",
            "    1 \n"
          ]
        }
      ]
    },
    {
      "cell_type": "code",
      "source": [
        "#17\n",
        "for i in range(1,6):\n",
        "  print(' '*(i-1),end=' ')\n",
        "  for j in range(i,6):\n",
        "    print(j,end=' ')\n",
        "  print() \n",
        "for i in range(5,0,-1):\n",
        "  print(' '*(i-1),end=' ')\n",
        "  for j in range(i,6):\n",
        "    print(j,end=' ')\n",
        "  print()"
      ],
      "metadata": {
        "id": "Uf6WbZC6w-0C",
        "colab": {
          "base_uri": "https://localhost:8080/"
        },
        "outputId": "ab8ec617-9cb4-4473-b438-8d1022802fa4"
      },
      "execution_count": null,
      "outputs": [
        {
          "output_type": "stream",
          "name": "stdout",
          "text": [
            " 1 2 3 4 5 \n",
            "  2 3 4 5 \n",
            "   3 4 5 \n",
            "    4 5 \n",
            "     5 \n",
            "     5 \n",
            "    4 5 \n",
            "   3 4 5 \n",
            "  2 3 4 5 \n",
            " 1 2 3 4 5 \n"
          ]
        }
      ]
    },
    {
      "cell_type": "code",
      "source": [
        "#18\n",
        "for i in range(1,6):\n",
        "  print(' '*(i-1),end=' ')\n",
        "  for j in range(i,6):\n",
        "    print(j,end=' ')\n",
        "  print() \n",
        "for i in range(5,0,-1):\n",
        "  print(' '*(i-1),end=' ')\n",
        "  for j in range(i,6):\n",
        "    print(j,end=' ')\n",
        "  print()"
      ],
      "metadata": {
        "colab": {
          "base_uri": "https://localhost:8080/"
        },
        "id": "DJaMVVZ2ghP0",
        "outputId": "0193c119-4f5b-42aa-f68f-b70a18adb416"
      },
      "execution_count": null,
      "outputs": [
        {
          "output_type": "stream",
          "name": "stdout",
          "text": [
            " 1 2 3 4 5 \n",
            "  2 3 4 5 \n",
            "   3 4 5 \n",
            "    4 5 \n",
            "     5 \n",
            "     5 \n",
            "    4 5 \n",
            "   3 4 5 \n",
            "  2 3 4 5 \n",
            " 1 2 3 4 5 \n"
          ]
        }
      ]
    },
    {
      "cell_type": "code",
      "source": [
        "#19\n",
        "for  i in range(5,0,-1):\n",
        "  print(' '*(i-1),end=' ')\n",
        "  for j in range(i,6):\n",
        "    print(j,end=' ')\n",
        "  print()  "
      ],
      "metadata": {
        "colab": {
          "base_uri": "https://localhost:8080/"
        },
        "id": "T1edlEa8C0gX",
        "outputId": "fb8051cd-cb69-4a0e-971b-c4f4aba993be"
      },
      "execution_count": null,
      "outputs": [
        {
          "output_type": "stream",
          "name": "stdout",
          "text": [
            "     5 \n",
            "    4 5 \n",
            "   3 4 5 \n",
            "  2 3 4 5 \n",
            " 1 2 3 4 5 \n"
          ]
        }
      ]
    },
    {
      "cell_type": "code",
      "source": [
        "#20\n",
        "for i in range(1,6):\n",
        "  print(' '*(5-i),end='')\n",
        "  for j in range(1,i+1):\n",
        "    print(j,end='')\n",
        "  for k in range(i-1,0,-1):\n",
        "    print(k,end='')\n",
        "  print()    "
      ],
      "metadata": {
        "id": "7K0ajHGWEiHf",
        "colab": {
          "base_uri": "https://localhost:8080/"
        },
        "outputId": "687e4608-b51b-496e-ed78-108e04908999"
      },
      "execution_count": null,
      "outputs": [
        {
          "output_type": "stream",
          "name": "stdout",
          "text": [
            "    1\n",
            "   121\n",
            "  12321\n",
            " 1234321\n",
            "123454321\n"
          ]
        }
      ]
    },
    {
      "cell_type": "code",
      "source": [
        "#21\n",
        "for i in range(1,6):\n",
        "  for j in range(1,i+1):\n",
        "    print(j%2,end='')\n",
        "  print()  "
      ],
      "metadata": {
        "colab": {
          "base_uri": "https://localhost:8080/"
        },
        "id": "z_fcNwVeEji1",
        "outputId": "586e94b7-92f1-4af3-b1b3-e81a416ab588"
      },
      "execution_count": null,
      "outputs": [
        {
          "output_type": "stream",
          "name": "stdout",
          "text": [
            "1\n",
            "10\n",
            "101\n",
            "1010\n",
            "10101\n"
          ]
        }
      ]
    },
    {
      "cell_type": "code",
      "source": [
        "#22\n",
        "for i in range(1,6):\n",
        "  for j in range(1,6):\n",
        "    if(i==j):\n",
        "      print(i,end='')\n",
        "    else:\n",
        "      print(0,end='')\n",
        "  print()      \n",
        "  "
      ],
      "metadata": {
        "id": "lZqn1ASRNCBn",
        "colab": {
          "base_uri": "https://localhost:8080/"
        },
        "outputId": "b941a42e-6361-48c3-a00b-a0947d639e9c"
      },
      "execution_count": null,
      "outputs": [
        {
          "output_type": "stream",
          "name": "stdout",
          "text": [
            "10000\n",
            "02000\n",
            "00300\n",
            "00040\n",
            "00005\n"
          ]
        }
      ]
    },
    {
      "cell_type": "code",
      "source": [
        ""
      ],
      "metadata": {
        "id": "WcpKe77zsOWO"
      },
      "execution_count": null,
      "outputs": []
    },
    {
      "cell_type": "code",
      "source": [
        "#23\n",
        "for i in range(1,6):\n",
        "  print('1'*(5-i),end='')\n",
        "  for j in range(1,i+1):\n",
        "    print(i,end='')\n",
        "  print()\n"
      ],
      "metadata": {
        "id": "_9Xh_nj4iH9m",
        "colab": {
          "base_uri": "https://localhost:8080/"
        },
        "outputId": "bf5f0634-6554-492c-8fee-142373da1725"
      },
      "execution_count": null,
      "outputs": [
        {
          "output_type": "stream",
          "name": "stdout",
          "text": [
            "11111\n",
            "11122\n",
            "11333\n",
            "14444\n",
            "55555\n"
          ]
        }
      ]
    },
    {
      "cell_type": "code",
      "source": [
        "#24\n",
        "for i in range(1,6):\n",
        "  for j in range(i,6):\n",
        "    print(j,end='')\n",
        "  for k in range(4,i-1,-1):\n",
        "    print(k,end='')\n",
        "  print()    "
      ],
      "metadata": {
        "colab": {
          "base_uri": "https://localhost:8080/"
        },
        "id": "4UdQU_DWsQid",
        "outputId": "035a8c9e-dd84-47f9-ca52-64a0948d0440"
      },
      "execution_count": null,
      "outputs": [
        {
          "output_type": "stream",
          "name": "stdout",
          "text": [
            "123454321\n",
            "2345432\n",
            "34543\n",
            "454\n",
            "5\n"
          ]
        }
      ]
    },
    {
      "cell_type": "code",
      "source": [
        "#25\n",
        "for i in range(1,6):\n",
        "  print(' '*(5-i),end='')\n",
        "  for j in range(1,i+1):\n",
        "    print(i,end=' ')\n",
        "  print()  "
      ],
      "metadata": {
        "colab": {
          "base_uri": "https://localhost:8080/"
        },
        "id": "__V9zdADu3y-",
        "outputId": "b3b658b3-b91b-4760-d8e5-f6289342667b"
      },
      "execution_count": null,
      "outputs": [
        {
          "output_type": "stream",
          "name": "stdout",
          "text": [
            "    1 \n",
            "   2 2 \n",
            "  3 3 3 \n",
            " 4 4 4 4 \n",
            "5 5 5 5 5 \n"
          ]
        }
      ]
    },
    {
      "cell_type": "code",
      "source": [
        "#26\n",
        "for  i in range(5,0,-1):\n",
        "  print('5'*(i-1),end='')\n",
        "  for j in range(i,6):\n",
        "    print(j,end='')\n",
        "  print()"
      ],
      "metadata": {
        "colab": {
          "base_uri": "https://localhost:8080/"
        },
        "id": "tHpd_q3zvnWY",
        "outputId": "ed2baf3a-0ec6-4bef-f7df-01ef47f8f96b"
      },
      "execution_count": null,
      "outputs": [
        {
          "output_type": "stream",
          "name": "stdout",
          "text": [
            "55555\n",
            "55545\n",
            "55345\n",
            "52345\n",
            "12345\n"
          ]
        }
      ]
    },
    {
      "cell_type": "code",
      "source": [
        "#27\n",
        "\n"
      ],
      "metadata": {
        "id": "iEVW12m7wFyV"
      },
      "execution_count": null,
      "outputs": []
    },
    {
      "cell_type": "code",
      "source": [
        "#31\n",
        "for i in range(5,0,-1):\n",
        "  for j in range(5,i-1,-1):\n",
        "    print(j,end='')\n",
        "  for k in range(1,i):\n",
        "     print(i,end='')  \n",
        "  print()"
      ],
      "metadata": {
        "colab": {
          "base_uri": "https://localhost:8080/"
        },
        "id": "8k3RDkF50cO_",
        "outputId": "dfe0dad6-fd28-47c7-9f6c-8e72f7a1cb02"
      },
      "execution_count": null,
      "outputs": [
        {
          "output_type": "stream",
          "name": "stdout",
          "text": [
            "55555\n",
            "54444\n",
            "54333\n",
            "54322\n",
            "54321\n"
          ]
        }
      ]
    },
    {
      "cell_type": "code",
      "source": [
        ""
      ],
      "metadata": {
        "colab": {
          "base_uri": "https://localhost:8080/"
        },
        "id": "48HsaVrL455-",
        "outputId": "08482043-035e-4826-b6f7-f64d209decd4"
      },
      "execution_count": null,
      "outputs": [
        {
          "output_type": "stream",
          "name": "stdout",
          "text": [
            "5555\n",
            "444\n",
            "33\n",
            "2\n",
            "\n"
          ]
        }
      ]
    },
    {
      "cell_type": "code",
      "source": [
        "for i in range(5,0,-1):\n",
        "    print(\"X\"*i)"
      ],
      "metadata": {
        "id": "a48fihL4c7v7",
        "colab": {
          "base_uri": "https://localhost:8080/"
        },
        "outputId": "084763f4-e9b1-4bf5-b7ef-000df4401697"
      },
      "execution_count": null,
      "outputs": [
        {
          "output_type": "stream",
          "name": "stdout",
          "text": [
            "XXXXX\n",
            "XXXX\n",
            "XXX\n",
            "XX\n",
            "X\n"
          ]
        }
      ]
    },
    {
      "cell_type": "code",
      "source": [
        "for i in range(1,6,1):\n",
        "  print(\"*\"*i)"
      ],
      "metadata": {
        "colab": {
          "base_uri": "https://localhost:8080/"
        },
        "id": "4SCj-b_8u3PM",
        "outputId": "5a0479f6-4c1a-4d28-ffb9-12608ef0949d"
      },
      "execution_count": null,
      "outputs": [
        {
          "output_type": "stream",
          "name": "stdout",
          "text": [
            "*\n",
            "**\n",
            "***\n",
            "****\n",
            "*****\n"
          ]
        }
      ]
    },
    {
      "cell_type": "code",
      "source": [
        "for i in range(1,6,1):\n",
        "  print(\" \"*(5-i),end='')\n",
        "  for j in range(1,i+1):\n",
        "    print(\"*\",end='')\n",
        "  print()  \n",
        "    \n"
      ],
      "metadata": {
        "id": "CEl0I4tuvJkH",
        "colab": {
          "base_uri": "https://localhost:8080/"
        },
        "outputId": "5fbc766f-be84-4fd1-f364-04ba0f2b9b0a"
      },
      "execution_count": null,
      "outputs": [
        {
          "output_type": "stream",
          "name": "stdout",
          "text": [
            "    *\n",
            "   **\n",
            "  ***\n",
            " ****\n",
            "*****\n"
          ]
        }
      ]
    },
    {
      "cell_type": "code",
      "source": [
        "for i in range(1,6):\n",
        "        for j in range(1, i + 1):\n",
        "            print(chr(ord('A') + j - 1),end =' ')\n",
        "        print()"
      ],
      "metadata": {
        "id": "1lCoLRjiCywv",
        "colab": {
          "base_uri": "https://localhost:8080/"
        },
        "outputId": "485a8ac4-d92c-4e18-9731-1f88cf5f18db"
      },
      "execution_count": null,
      "outputs": [
        {
          "output_type": "stream",
          "name": "stdout",
          "text": [
            "A \n",
            "A B \n",
            "A B C \n",
            "A B C D \n",
            "A B C D E \n"
          ]
        }
      ]
    },
    {
      "cell_type": "code",
      "source": [
        "for i in range(1,6):\n",
        "        for j in range(5, i - 1, -1):\n",
        "            print(chr(ord('A') - 1 + i),end = \" \")\n",
        "        print(\"\")"
      ],
      "metadata": {
        "colab": {
          "base_uri": "https://localhost:8080/"
        },
        "id": "wjvEnTc63ESp",
        "outputId": "c470ae2c-38b3-466c-f51b-069e1eef54d4"
      },
      "execution_count": null,
      "outputs": [
        {
          "output_type": "stream",
          "name": "stdout",
          "text": [
            "A A A A A \n",
            "B B B B \n",
            "C C C \n",
            "D D \n",
            "E \n"
          ]
        }
      ]
    },
    {
      "cell_type": "code",
      "source": [
        "for i in range(1,6):\n",
        "        for j in range(i, 0, -1):\n",
        "            print(chr(ord('A') + j - 1), end = \" \")\n",
        "        print()"
      ],
      "metadata": {
        "colab": {
          "base_uri": "https://localhost:8080/"
        },
        "id": "SeItuJtb4Wu9",
        "outputId": "c2d15ef0-581e-4086-b429-b783be93e84c"
      },
      "execution_count": null,
      "outputs": [
        {
          "output_type": "stream",
          "name": "stdout",
          "text": [
            "A \n",
            "B A \n",
            "C B A \n",
            "D C B A \n",
            "E D C B A \n"
          ]
        }
      ]
    },
    {
      "cell_type": "code",
      "source": [
        "for i in range(5,0,-1):\n",
        "    for j in range(1,i + 1,1):\n",
        "        print(chr(ord('p') - 1 + i),end = ' ')\n",
        "    print()"
      ],
      "metadata": {
        "colab": {
          "base_uri": "https://localhost:8080/"
        },
        "id": "u9fAA1CF4vlI",
        "outputId": "00683949-256a-4154-e9c4-38d3195501f4"
      },
      "execution_count": null,
      "outputs": [
        {
          "output_type": "stream",
          "name": "stdout",
          "text": [
            "t t t t t \n",
            "s s s s \n",
            "r r r \n",
            "q q \n",
            "p \n"
          ]
        }
      ]
    },
    {
      "cell_type": "code",
      "source": [
        "for i in range(1,6):\n",
        "  for j in range(i,6):\n",
        "    print(chr(ord('A')-1 + j),end=' ')\n",
        "  print()  "
      ],
      "metadata": {
        "colab": {
          "base_uri": "https://localhost:8080/"
        },
        "id": "312U_xZ-469B",
        "outputId": "7840fd2e-da9f-4788-da54-91c06f762f04"
      },
      "execution_count": null,
      "outputs": [
        {
          "output_type": "stream",
          "name": "stdout",
          "text": [
            "A B C D E \n",
            "B C D E \n",
            "C D E \n",
            "D E \n",
            "E \n"
          ]
        }
      ]
    },
    {
      "cell_type": "code",
      "source": [
        "for i in range(5,0,-1):\n",
        "  print(\" \"*i,end='')\n",
        "  for j in range(i,6):\n",
        "    print(chr(ord('A')+j-1),end='')\n",
        "  print()  "
      ],
      "metadata": {
        "colab": {
          "base_uri": "https://localhost:8080/"
        },
        "id": "DXcLIsUN6b1c",
        "outputId": "0f661271-0e17-4fe2-fa94-96903f98e325"
      },
      "execution_count": null,
      "outputs": [
        {
          "output_type": "stream",
          "name": "stdout",
          "text": [
            "     E\n",
            "    DE\n",
            "   CDE\n",
            "  BCDE\n",
            " ABCDE\n"
          ]
        }
      ]
    },
    {
      "cell_type": "code",
      "source": [
        "for i in range(1,6):\n",
        "  print(\" \"*(5-i),end='')\n",
        "  for j in range(1,i+1):\n",
        "    print(chr(ord('A')+j-1),end='')\n",
        "  print()  "
      ],
      "metadata": {
        "colab": {
          "base_uri": "https://localhost:8080/"
        },
        "id": "EeIC4C3W8BPF",
        "outputId": "d1beed6c-e017-47d4-cc8d-1dc561b2784d"
      },
      "execution_count": null,
      "outputs": [
        {
          "output_type": "stream",
          "name": "stdout",
          "text": [
            "    A\n",
            "   AB\n",
            "  ABC\n",
            " ABCD\n",
            "ABCDE\n"
          ]
        }
      ]
    },
    {
      "cell_type": "code",
      "source": [
        "for i in range(1,6):\n",
        "        for j in range(1, i+1):\n",
        "            print(chr(ord('A')+i -1),end = \" \")\n",
        "        print(\"\")"
      ],
      "metadata": {
        "colab": {
          "base_uri": "https://localhost:8080/"
        },
        "id": "wF-_LCJw9uu5",
        "outputId": "d1c7d506-b109-40c8-b2e0-09d2b5b02446"
      },
      "execution_count": null,
      "outputs": [
        {
          "output_type": "stream",
          "name": "stdout",
          "text": [
            "A \n",
            "B B \n",
            "C C C \n",
            "D D D D \n",
            "E E E E E \n"
          ]
        }
      ]
    },
    {
      "cell_type": "code",
      "source": [
        "a=input(\"enter  \")\n",
        "for i in range(1,len(a)+1):\n",
        "  print(a[:i])"
      ],
      "metadata": {
        "id": "jRTPdav0-aSR",
        "colab": {
          "base_uri": "https://localhost:8080/"
        },
        "outputId": "d1f327a0-eeaa-4df6-8fb3-15a3736295fd"
      },
      "execution_count": null,
      "outputs": [
        {
          "output_type": "stream",
          "name": "stdout",
          "text": [
            "enter  python\n",
            "p\n",
            "py\n",
            "pyt\n",
            "pyth\n",
            "pytho\n",
            "python\n"
          ]
        }
      ]
    }
  ]
}